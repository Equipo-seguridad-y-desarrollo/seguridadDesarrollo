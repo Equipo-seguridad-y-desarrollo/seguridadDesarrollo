{
 "cells": [
  {
   "cell_type": "markdown",
   "id": "e46dc413",
   "metadata": {
    "tags": [
     "papermill-error-cell-tag"
    ]
   },
   "source": [
    "<span style=\"color:red; font-family:Helvetica Neue, Helvetica, Arial, sans-serif; font-size:2em;\">An Exception was encountered at '<a href=\"#papermill-error-cell\">In [12]</a>'.</span>"
   ]
  },
  {
   "cell_type": "code",
   "execution_count": 1,
   "id": "ee9ce6e7-8e13-4a43-b0a7-db8f1a8cd211",
   "metadata": {
    "execution": {
     "iopub.execute_input": "2025-10-13T23:23:54.209140Z",
     "iopub.status.busy": "2025-10-13T23:23:54.208635Z",
     "iopub.status.idle": "2025-10-13T23:23:54.838043Z",
     "shell.execute_reply": "2025-10-13T23:23:54.837073Z"
    },
    "papermill": {
     "duration": 0.636989,
     "end_time": "2025-10-13T23:23:54.839485",
     "exception": false,
     "start_time": "2025-10-13T23:23:54.202496",
     "status": "completed"
    },
    "tags": []
   },
   "outputs": [],
   "source": [
    "import pandas as pd \n",
    "import numpy as np\n",
    "import requests\n",
    "import time\n",
    "import re\n",
    "from pathlib import Path\n",
    "import pandas as pd\n",
    "from selenium import webdriver\n",
    "from selenium.webdriver.common.by import By\n",
    "from selenium.webdriver.chrome.options import Options\n",
    "import os\n",
    "\n"
   ]
  },
  {
   "cell_type": "markdown",
   "id": "8c5cddd5-1b8f-4e51-8434-0a7e0d09f02a",
   "metadata": {
    "papermill": {
     "duration": 0.003157,
     "end_time": "2025-10-13T23:23:54.846276",
     "exception": false,
     "start_time": "2025-10-13T23:23:54.843119",
     "status": "completed"
    },
    "tags": []
   },
   "source": [
    "## Problemas de desigualdad social"
   ]
  },
  {
   "cell_type": "code",
   "execution_count": 2,
   "id": "b52fc7c3-996c-458b-9e17-f75f604213c9",
   "metadata": {
    "execution": {
     "iopub.execute_input": "2025-10-13T23:23:54.853468Z",
     "iopub.status.busy": "2025-10-13T23:23:54.853084Z",
     "iopub.status.idle": "2025-10-13T23:23:55.530286Z",
     "shell.execute_reply": "2025-10-13T23:23:55.529571Z"
    },
    "papermill": {
     "duration": 0.682382,
     "end_time": "2025-10-13T23:23:55.531433",
     "exception": false,
     "start_time": "2025-10-13T23:23:54.849051",
     "status": "completed"
    },
    "scrolled": true,
    "tags": []
   },
   "outputs": [
    {
     "data": {
      "text/html": [
       "<div>\n",
       "<style scoped>\n",
       "    .dataframe tbody tr th:only-of-type {\n",
       "        vertical-align: middle;\n",
       "    }\n",
       "\n",
       "    .dataframe tbody tr th {\n",
       "        vertical-align: top;\n",
       "    }\n",
       "\n",
       "    .dataframe thead th {\n",
       "        text-align: right;\n",
       "    }\n",
       "</style>\n",
       "<table border=\"1\" class=\"dataframe\">\n",
       "  <thead>\n",
       "    <tr style=\"text-align: right;\">\n",
       "      <th></th>\n",
       "      <th>anio</th>\n",
       "      <th>id estado</th>\n",
       "      <th>estado</th>\n",
       "      <th>gini</th>\n",
       "    </tr>\n",
       "  </thead>\n",
       "  <tbody>\n",
       "    <tr>\n",
       "      <th>0</th>\n",
       "      <td>2010</td>\n",
       "      <td>1</td>\n",
       "      <td>Aguascalientes</td>\n",
       "      <td>0.507408</td>\n",
       "    </tr>\n",
       "    <tr>\n",
       "      <th>1</th>\n",
       "      <td>2012</td>\n",
       "      <td>1</td>\n",
       "      <td>Aguascalientes</td>\n",
       "      <td>0.479191</td>\n",
       "    </tr>\n",
       "    <tr>\n",
       "      <th>2</th>\n",
       "      <td>2014</td>\n",
       "      <td>1</td>\n",
       "      <td>Aguascalientes</td>\n",
       "      <td>0.486294</td>\n",
       "    </tr>\n",
       "    <tr>\n",
       "      <th>3</th>\n",
       "      <td>2016</td>\n",
       "      <td>1</td>\n",
       "      <td>Aguascalientes</td>\n",
       "      <td>0.409074</td>\n",
       "    </tr>\n",
       "    <tr>\n",
       "      <th>4</th>\n",
       "      <td>2018</td>\n",
       "      <td>1</td>\n",
       "      <td>Aguascalientes</td>\n",
       "      <td>0.420223</td>\n",
       "    </tr>\n",
       "    <tr>\n",
       "      <th>5</th>\n",
       "      <td>2020</td>\n",
       "      <td>1</td>\n",
       "      <td>Aguascalientes</td>\n",
       "      <td>0.395063</td>\n",
       "    </tr>\n",
       "    <tr>\n",
       "      <th>6</th>\n",
       "      <td>2022</td>\n",
       "      <td>1</td>\n",
       "      <td>Aguascalientes</td>\n",
       "      <td>0.429214</td>\n",
       "    </tr>\n",
       "    <tr>\n",
       "      <th>7</th>\n",
       "      <td>2010</td>\n",
       "      <td>2</td>\n",
       "      <td>Baja California</td>\n",
       "      <td>0.505827</td>\n",
       "    </tr>\n",
       "    <tr>\n",
       "      <th>8</th>\n",
       "      <td>2012</td>\n",
       "      <td>2</td>\n",
       "      <td>Baja California</td>\n",
       "      <td>0.464538</td>\n",
       "    </tr>\n",
       "    <tr>\n",
       "      <th>9</th>\n",
       "      <td>2014</td>\n",
       "      <td>2</td>\n",
       "      <td>Baja California</td>\n",
       "      <td>0.433568</td>\n",
       "    </tr>\n",
       "  </tbody>\n",
       "</table>\n",
       "</div>"
      ],
      "text/plain": [
       "   anio  id estado           estado      gini\n",
       "0  2010          1   Aguascalientes  0.507408\n",
       "1  2012          1   Aguascalientes  0.479191\n",
       "2  2014          1   Aguascalientes  0.486294\n",
       "3  2016          1   Aguascalientes  0.409074\n",
       "4  2018          1   Aguascalientes  0.420223\n",
       "5  2020          1   Aguascalientes  0.395063\n",
       "6  2022          1   Aguascalientes  0.429214\n",
       "7  2010          2  Baja California  0.505827\n",
       "8  2012          2  Baja California  0.464538\n",
       "9  2014          2  Baja California  0.433568"
      ]
     },
     "execution_count": 2,
     "metadata": {},
     "output_type": "execute_result"
    }
   ],
   "source": [
    "# URL de la API de la pagina https://www.economia.gob.mx/datamexico/es/vizbuilder \n",
    "url = (\"https://www.economia.gob.mx/apidatamexico/tesseract/data.jsonrecords\"\n",
    "       \"?Year=2010%2C2012%2C2014%2C2016%2C2018%2C2020%2C2022\"\n",
    "       \"&cube=coneval_gini_ent\"\n",
    "       \"&drilldowns=Year%2CState\"\n",
    "       \"&locale=es\"\n",
    "       \"&measures=GINI\")\n",
    "\n",
    "resp = requests.get(url)\n",
    "resp.raise_for_status() \n",
    "data = resp.json()\n",
    "\n",
    "# Lo convertimos en un data frame\n",
    "df = pd.DataFrame(data[\"data\"])\n",
    "\n",
    "#  colocar los nombres de las columnas en español\n",
    "df = df.rename(columns={\n",
    "    \"Year\": \"anio\",\n",
    "    \"State ID\": \"id estado\",\n",
    "    \"State\": \"estado\",\n",
    "    \"GINI\": \"gini\"\n",
    "})\n",
    "# mas cerca del 1 mayor desigualdad social\n",
    "\n",
    "# datos numericos \n",
    "df[\"anio\"] = pd.to_numeric(df[\"anio\"], errors=\"coerce\")\n",
    "df[\"gini\"] = pd.to_numeric(df[\"gini\"], errors=\"coerce\")\n",
    "\n",
    "# Ordenar\n",
    "df = df.sort_values([\"estado\", \"anio\"]).reset_index(drop=True)\n",
    "\n",
    "df.head(10)\n"
   ]
  },
  {
   "cell_type": "markdown",
   "id": "a40da7e8-c82a-4cf6-931e-5b982b46db2c",
   "metadata": {
    "papermill": {
     "duration": 0.003498,
     "end_time": "2025-10-13T23:23:55.540705",
     "exception": false,
     "start_time": "2025-10-13T23:23:55.537207",
     "status": "completed"
    },
    "tags": []
   },
   "source": [
    "### entre mas cerca del 1 se encuentre mayor desigualdad social, datos de https://www.economia.gob.mx/datamexico/es/vizbuilder\n",
    "- 0 (Cero): Representa la igualdad perfecta. Esto significaría que todas las personas en una sociedad tienen exactamente los mismos ingresos. -\n",
    "- 1 (Uno): Representa la desigualdad perfecta. Esto ocurriría si una sola persona tuviera todos los ingresos y los demás no tuvieran nada."
   ]
  },
  {
   "cell_type": "markdown",
   "id": "a0cb8796",
   "metadata": {
    "papermill": {
     "duration": 0.00457,
     "end_time": "2025-10-13T23:23:55.554605",
     "exception": false,
     "start_time": "2025-10-13T23:23:55.550035",
     "status": "completed"
    },
    "tags": []
   },
   "source": [
    "## Estimado del 2019 al 2024 de rezago por nivel educativo datos del https://www.gob.mx/inea/documentos/rezago-educativo "
   ]
  },
  {
   "cell_type": "code",
   "execution_count": 3,
   "id": "d2d2e574-99c2-4072-b488-41fd7ff4073a",
   "metadata": {
    "execution": {
     "iopub.execute_input": "2025-10-13T23:23:55.562763Z",
     "iopub.status.busy": "2025-10-13T23:23:55.562525Z",
     "iopub.status.idle": "2025-10-13T23:23:55.566990Z",
     "shell.execute_reply": "2025-10-13T23:23:55.566339Z"
    },
    "papermill": {
     "duration": 0.010006,
     "end_time": "2025-10-13T23:23:55.568153",
     "exception": false,
     "start_time": "2025-10-13T23:23:55.558147",
     "status": "completed"
    },
    "tags": []
   },
   "outputs": [],
   "source": [
    "# # el io es para manejar archivos en memoria. y el time para poner pausas entre descargas\n",
    "# from io import BytesIO\n",
    "# import time\n",
    "# # las url son de los archivos excel en la pagina https://www.gob.mx/inea/documentos/rezago-educativo\n",
    "# archivos = {\n",
    "#     2024: \"https://www.gob.mx/cms/uploads/attachment/file/976883/est_rez_2024_actualizado.xlsx\",\n",
    "#     2023: \"https://www.gob.mx/cms/uploads/attachment/file/976882/est_rez_2023_actualizado.xlsx\",\n",
    "#     2022: \"https://www.gob.mx/cms/uploads/attachment/file/976881/est_rez_2022_actualizado.xlsx\",\n",
    "#     2021: \"https://www.gob.mx/cms/uploads/attachment/file/976880/est_rez_2021_actualizado.xlsx\",\n",
    "#     2020: \"https://www.gob.mx/cms/uploads/attachment/file/976878/est_rez_2020_actualizado.xlsx\",\n",
    "#     2019: \"https://www.gob.mx/cms/uploads/attachment/file/976879/est_rez_2019_actualizado.xlsx\"\n",
    "# }\n",
    "\n",
    "\n",
    "# dataframes = []\n",
    "# # descargamos cada archivo, limpiamos y agregamos una columna con el año\n",
    "# for year, url in archivos.items():\n",
    "#     print(f\"Descargando {year}: {url}\")\n",
    "#     response = requests.get(url)\n",
    "#     if response.status_code == 200:\n",
    "#         df_raw = pd.read_excel(BytesIO(response.content), header=None)\n",
    "#         df_clean = df_raw.drop(index=range(0, 5)).reset_index(drop=True)\n",
    "#         df_clean[\"Año\"] = year\n",
    "#         dataframes.append(df_clean)\n",
    "#     else:\n",
    "#         print(f\"Error al descargar {year}: {response.status_code}\")\n",
    "#     time.sleep(2)\n",
    "\n",
    "# if dataframes:\n",
    "#     df_total = pd.concat(dataframes, ignore_index=True)\n",
    "#     df_total.to_excel(\"rezago_educativo_2019_2024.xlsx\", index=False)\n",
    "#     print(\"Archivos combinados guardados en 'rezago_educativo_2019_2024.xlsx'\")\n",
    "# else:\n",
    "#     print(\"No se descargaron archivos.\")\n",
    "\n"
   ]
  },
  {
   "cell_type": "code",
   "execution_count": 4,
   "id": "0741e220",
   "metadata": {
    "execution": {
     "iopub.execute_input": "2025-10-13T23:23:55.577248Z",
     "iopub.status.busy": "2025-10-13T23:23:55.576806Z",
     "iopub.status.idle": "2025-10-13T23:23:55.582160Z",
     "shell.execute_reply": "2025-10-13T23:23:55.581091Z"
    },
    "papermill": {
     "duration": 0.011239,
     "end_time": "2025-10-13T23:23:55.583623",
     "exception": false,
     "start_time": "2025-10-13T23:23:55.572384",
     "status": "completed"
    },
    "tags": []
   },
   "outputs": [],
   "source": [
    "\n",
    "\n",
    "# # en casoo de que no se hayan descargado los archivos no se descarguen con el web scrapping\n",
    "# archivos = {\n",
    "#     2024: \"https://www.gob.mx/cms/uploads/attachment/file/976883/est_rez_2024_actualizado.xlsx\",\n",
    "#     2023: \"https://www.gob.mx/cms/uploads/attachment/file/976882/est_rez_2023_actualizado.xlsx\",\n",
    "#     2022: \"https://www.gob.mx/cms/uploads/attachment/file/976881/est_rez_2022_actualizado.xlsx\",\n",
    "#     2021: \"https://www.gob.mx/cms/uploads/attachment/file/976880/est_rez_2021_actualizado.xlsx\",\n",
    "#     2020: \"https://www.gob.mx/cms/uploads/attachment/file/976878/est_rez_2020_actualizado.xlsx\",\n",
    "#     2019: \"https://www.gob.mx/cms/uploads/attachment/file/976879/est_rez_2019_actualizado.xlsx\"\n",
    "# }\n",
    "\n",
    "# # Carpeta donde guardarás los archivos descargados\n",
    "# carpeta = \"archivos_rezago\"\n",
    "# os.makedirs(carpeta, exist_ok=True)\n",
    "\n",
    "# dataframes = []\n",
    "\n",
    "# for year, url in archivos.items():\n",
    "#     nombre_archivo = f\"{carpeta}/est_rez_{year}.xlsx\"\n",
    "    \n",
    "#     # Verificar si ya existe el archivo\n",
    "#     if os.path.exists(nombre_archivo):\n",
    "#         print(f\" {year} ya existe. Cargando desde disco...\")\n",
    "#         df_raw = pd.read_excel(nombre_archivo, header=None)\n",
    "#     else:\n",
    "#         print(f\"⬇ Descargando {year} desde {url}\")\n",
    "#         response = requests.get(url)\n",
    "#         if response.status_code == 200:\n",
    "#             with open(nombre_archivo, \"wb\") as f:\n",
    "#                 f.write(response.content)\n",
    "#             df_raw = pd.read_excel(BytesIO(response.content), header=None)\n",
    "#         else:\n",
    "#             print(f\"Error al descargar {year}: {response.status_code}\")\n",
    "#             continue\n",
    "    \n",
    "#     df_clean = df_raw.drop(index=range(0, 5)).reset_index(drop=True)\n",
    "#     df_clean[\"Año\"] = year\n",
    "#     dataframes.append(df_clean)\n",
    "    \n",
    "#     time.sleep(2)\n",
    "\n",
    "# if dataframes:\n",
    "#     df_total = pd.concat(dataframes, ignore_index=True)\n",
    "#     df_total.to_excel(\"rezago_educativo_2019_2024.xlsx\", index=False)\n",
    "#     print(\" Archivos combinados guardados en 'rezago_educativo_2019_2024.xlsx'\")\n",
    "# else:\n",
    "#     print(\"No se descargaron archivos.\")\n"
   ]
  },
  {
   "cell_type": "code",
   "execution_count": 5,
   "id": "e3240c19-af0b-4815-8ea8-ae6d0b5a39fb",
   "metadata": {
    "execution": {
     "iopub.execute_input": "2025-10-13T23:23:55.592529Z",
     "iopub.status.busy": "2025-10-13T23:23:55.592073Z",
     "iopub.status.idle": "2025-10-13T23:23:55.596108Z",
     "shell.execute_reply": "2025-10-13T23:23:55.595221Z"
    },
    "papermill": {
     "duration": 0.00966,
     "end_time": "2025-10-13T23:23:55.597537",
     "exception": false,
     "start_time": "2025-10-13T23:23:55.587877",
     "status": "completed"
    },
    "tags": []
   },
   "outputs": [],
   "source": [
    "# df_total.head(10)"
   ]
  },
  {
   "cell_type": "markdown",
   "id": "f17d0d7f",
   "metadata": {
    "papermill": {
     "duration": 0.003928,
     "end_time": "2025-10-13T23:23:55.604562",
     "exception": false,
     "start_time": "2025-10-13T23:23:55.600634",
     "status": "completed"
    },
    "tags": []
   },
   "source": [
    "## Debemos limpiar los archivos ya que el docuemnto en excel tiene filas que solo contienen titulos o texto por lo que si la entidad federativa es cero  elimina las columans "
   ]
  },
  {
   "cell_type": "code",
   "execution_count": 6,
   "id": "f63013ca",
   "metadata": {
    "execution": {
     "iopub.execute_input": "2025-10-13T23:23:55.612306Z",
     "iopub.status.busy": "2025-10-13T23:23:55.612073Z",
     "iopub.status.idle": "2025-10-13T23:23:55.616629Z",
     "shell.execute_reply": "2025-10-13T23:23:55.616001Z"
    },
    "papermill": {
     "duration": 0.010151,
     "end_time": "2025-10-13T23:23:55.617820",
     "exception": false,
     "start_time": "2025-10-13T23:23:55.607669",
     "status": "completed"
    },
    "tags": []
   },
   "outputs": [],
   "source": [
    "\n",
    "# nombre_archivo_entrada = \"rezago_educativo_2019_2024.xlsx\"\n",
    "# nombre_archivo_salida = \"rezago_educativo_LIMPIO.csv\" \n",
    "# try:\n",
    "#     # Cargar el archivo de Excel, indicando que no tiene una fila de encabezado.\n",
    "#     df = pd.read_excel(nombre_archivo_entrada, header=None)\n",
    "\n",
    "\n",
    "#     columnas_correctas = [\n",
    "#         'Num', 'Entidad', 'Poblacion_15_y_mas',\n",
    "#         'Analfabetas_Abs', 'Analfabetas_Lugar', 'Analfabetas_Porc', 'Analfabetas_Porc_Lugar',\n",
    "#         'Sin_Primaria_Abs', 'Sin_Primaria_Lugar', 'Sin_Primaria_Porc', 'Sin_Primaria_Porc_Lugar',\n",
    "#         'Sin_Secundaria_Abs', 'Sin_Secundaria_Lugar', 'Sin_Secundaria_Porc', 'Sin_Secundaria_Porc_Lugar',\n",
    "#         'Rezago_Total_Abs', 'Rezago_Total_Lugar', 'Rezago_Total_Porc', 'Rezago_Total_Porc_Lugar',\n",
    "#         'Año'\n",
    "#     ]\n",
    "#     df.columns = columnas_correctas\n",
    "#     valores_a_eliminar = ['Entidad', 'Estados Unidos Mexicanos']\n",
    "#     df_limpio = df[~df['Entidad'].isin(valores_a_eliminar)]\n",
    "\n",
    "#     # Eliminar cualquier fila que no tenga un nombre del estado\n",
    "#     df_limpio = df_limpio.dropna(subset=['Entidad'])\n",
    "\n",
    "#     # reiniciar el índice del DataFrame.\n",
    "#     df_limpio = df_limpio.reset_index(drop=True)\n",
    "    \n",
    "#     # comvertir las columnas de datos a tipo numérico.\n",
    "#     columnas_numericas = [\n",
    "#         'Poblacion_15_y_mas', 'Analfabetas_Abs', 'Analfabetas_Porc',\n",
    "#         'Sin_Primaria_Abs', 'Sin_Primaria_Porc', 'Sin_Secundaria_Abs',\n",
    "#         'Sin_Secundaria_Porc', 'Rezago_Total_Abs', 'Rezago_Total_Porc'\n",
    "#     ]\n",
    "#     # Convertir las columnas a tipo numérico,\n",
    "#     for col in columnas_numericas:\n",
    "#         df_limpio[col] = pd.to_numeric(df_limpio[col], errors='coerce')\n",
    "\n",
    "#  # Guardar el DataFrame limpio en un nuevo archivo CSV\n",
    "#     df_limpio.to_csv(nombre_archivo_salida, index=False)\n",
    "# except FileNotFoundError:\n",
    "#     print(f\"ERROR: No se encontró el archivo '{nombre_archivo_entrada}'.\")"
   ]
  },
  {
   "cell_type": "code",
   "execution_count": 7,
   "id": "2369ad80",
   "metadata": {
    "execution": {
     "iopub.execute_input": "2025-10-13T23:23:55.627054Z",
     "iopub.status.busy": "2025-10-13T23:23:55.626611Z",
     "iopub.status.idle": "2025-10-13T23:23:55.630197Z",
     "shell.execute_reply": "2025-10-13T23:23:55.629600Z"
    },
    "papermill": {
     "duration": 0.00929,
     "end_time": "2025-10-13T23:23:55.631337",
     "exception": false,
     "start_time": "2025-10-13T23:23:55.622047",
     "status": "completed"
    },
    "tags": []
   },
   "outputs": [],
   "source": [
    "# df_limpio.head()"
   ]
  },
  {
   "cell_type": "code",
   "execution_count": 8,
   "id": "dfb25760",
   "metadata": {
    "execution": {
     "iopub.execute_input": "2025-10-13T23:23:55.639519Z",
     "iopub.status.busy": "2025-10-13T23:23:55.639282Z",
     "iopub.status.idle": "2025-10-13T23:23:55.642519Z",
     "shell.execute_reply": "2025-10-13T23:23:55.641610Z"
    },
    "papermill": {
     "duration": 0.008783,
     "end_time": "2025-10-13T23:23:55.643754",
     "exception": false,
     "start_time": "2025-10-13T23:23:55.634971",
     "status": "completed"
    },
    "tags": []
   },
   "outputs": [],
   "source": [
    "# df_limpio.info()"
   ]
  },
  {
   "cell_type": "markdown",
   "id": "af756e18",
   "metadata": {
    "papermill": {
     "duration": 0.00348,
     "end_time": "2025-10-13T23:23:55.651826",
     "exception": false,
     "start_time": "2025-10-13T23:23:55.648346",
     "status": "completed"
    },
    "tags": []
   },
   "source": [
    "## Lo mismo pero con web scrapping"
   ]
  },
  {
   "cell_type": "code",
   "execution_count": 9,
   "id": "d2c60020-1206-4d5c-b4bd-f46c250f026b",
   "metadata": {
    "execution": {
     "iopub.execute_input": "2025-10-13T23:23:55.660045Z",
     "iopub.status.busy": "2025-10-13T23:23:55.659799Z",
     "iopub.status.idle": "2025-10-13T23:24:18.005597Z",
     "shell.execute_reply": "2025-10-13T23:24:18.004808Z"
    },
    "papermill": {
     "duration": 22.352371,
     "end_time": "2025-10-13T23:24:18.007648",
     "exception": false,
     "start_time": "2025-10-13T23:23:55.655277",
     "status": "completed"
    },
    "tags": []
   },
   "outputs": [
    {
     "name": "stdout",
     "output_type": "stream",
     "text": [
      "Descargando archivo con onclick: a_onClick('inea', 'Estimación del rezago educativo al 31 de diciembre de 2024 por entidad federativa')\n"
     ]
    },
    {
     "name": "stdout",
     "output_type": "stream",
     "text": [
      "Descargando archivo con onclick: a_onClick('inea', 'Estimación del rezago educativo al 31 de diciembre de 2023 por entidad federativa')\n"
     ]
    },
    {
     "name": "stdout",
     "output_type": "stream",
     "text": [
      "Descargando archivo con onclick: a_onClick('inea', 'Estimación del rezago educativo al 31 de diciembre de 2022 por entidad federativa')\n"
     ]
    },
    {
     "name": "stdout",
     "output_type": "stream",
     "text": [
      "Descargando archivo con onclick: a_onClick('inea', 'Estimación del rezago educativo al 31 de diciembre de 2021 por entidad federativa')\n"
     ]
    },
    {
     "name": "stdout",
     "output_type": "stream",
     "text": [
      "Descargando archivo con onclick: a_onClick('inea', 'Estimación del rezago educativo al 31 de diciembre de 2020 por entidad federativa')\n"
     ]
    },
    {
     "name": "stdout",
     "output_type": "stream",
     "text": [
      "Descargando archivo con onclick: a_onClick('inea', 'Estimación del rezago educativo al 31 de diciembre de 2019 por entidad federativa')\n"
     ]
    },
    {
     "name": "stdout",
     "output_type": "stream",
     "text": [
      "Todos los archivos se han descargado en: c:\\Users\\joel_\\seguridadDesarrollo\\seguridadDesarrollo\\notebooks\n"
     ]
    }
   ],
   "source": [
    "from selenium import webdriver\n",
    "from selenium.webdriver.common.by import By\n",
    "from selenium.webdriver.chrome.options import Options\n",
    "import os\n",
    "import time\n",
    "\n",
    "# Ruta actual del script\n",
    "download_dir = os.getcwd()\n",
    "\n",
    "# Configura opciones de descarga para Chrome\n",
    "options = Options()\n",
    "\n",
    "options.add_experimental_option(\"prefs\", {\n",
    "    \"download.default_directory\": download_dir,\n",
    "    \"download.prompt_for_download\": False,\n",
    "    \"download.directory_upgrade\": True,\n",
    "    \"safebrowsing.enabled\": True\n",
    "})\n",
    "\n",
    "# abre la ventanita del navegador\n",
    "driver = webdriver.Chrome(options=options)\n",
    "\n",
    "# Abre la página\n",
    "driver.get(\"https://www.gob.mx/inea/documentos/rezago-educativo\")\n",
    "time.sleep(3)  # Espera a que cargue la página\n",
    "\n",
    "# archivos xsls los guarda en la variables botones \n",
    "botones = driver.find_elements(By.XPATH, \"//a[contains(@onclick, 'Estimación del rezago educativo al 31 de diciembre de')]\")\n",
    "\n",
    "# Hace clic en cada enlace que comience con \"Estimación del rezago educativo al 31 de diciembre de\"\n",
    "for boton in botones:\n",
    "    onclick = boton.get_attribute(\"onclick\")\n",
    "    if onclick:\n",
    "        print(f\"Descargando archivo con onclick: {onclick}\")\n",
    "        driver.execute_script(\"arguments[0].click();\", boton)\n",
    "        time.sleep(2)  # Espera para que dé tiempo a descargar\n",
    "\n",
    "print(f\"Todos los archivos se han descargado en: {download_dir}\")\n",
    "#cierra la ventanita del navegador\n",
    "driver.quit() \n",
    "\n"
   ]
  },
  {
   "cell_type": "code",
   "execution_count": 10,
   "id": "1b9dbd6a",
   "metadata": {
    "execution": {
     "iopub.execute_input": "2025-10-13T23:24:18.019169Z",
     "iopub.status.busy": "2025-10-13T23:24:18.018837Z",
     "iopub.status.idle": "2025-10-13T23:24:44.739887Z",
     "shell.execute_reply": "2025-10-13T23:24:44.739333Z"
    },
    "papermill": {
     "duration": 26.728071,
     "end_time": "2025-10-13T23:24:44.741315",
     "exception": false,
     "start_time": "2025-10-13T23:24:18.013244",
     "status": "completed"
    },
    "tags": []
   },
   "outputs": [
    {
     "name": "stdout",
     "output_type": "stream",
     "text": [
      "Se configurará la descarga en la carpeta: C:\\Users\\joel_\\seguridadDesarrollo\\seguridadDesarrollo\\data\\raw\n"
     ]
    },
    {
     "name": "stdout",
     "output_type": "stream",
     "text": [
      "Iniciando descarga para:  'Estimación del rezago educativo al 31 de diciembre de 2024 por entidad federativa')\n"
     ]
    },
    {
     "name": "stdout",
     "output_type": "stream",
     "text": [
      "Iniciando descarga para:  'Estimación del rezago educativo al 31 de diciembre de 2023 por entidad federativa')\n"
     ]
    },
    {
     "name": "stdout",
     "output_type": "stream",
     "text": [
      "Iniciando descarga para:  'Estimación del rezago educativo al 31 de diciembre de 2022 por entidad federativa')\n"
     ]
    },
    {
     "name": "stdout",
     "output_type": "stream",
     "text": [
      "Iniciando descarga para:  'Estimación del rezago educativo al 31 de diciembre de 2021 por entidad federativa')\n"
     ]
    },
    {
     "name": "stdout",
     "output_type": "stream",
     "text": [
      "Iniciando descarga para:  'Estimación del rezago educativo al 31 de diciembre de 2020 por entidad federativa')\n"
     ]
    },
    {
     "name": "stdout",
     "output_type": "stream",
     "text": [
      "Iniciando descarga para:  'Estimación del rezago educativo al 31 de diciembre de 2019 por entidad federativa')\n"
     ]
    },
    {
     "name": "stdout",
     "output_type": "stream",
     "text": [
      "\n",
      "Todas las descargas han sido iniciadas.\n"
     ]
    },
    {
     "name": "stdout",
     "output_type": "stream",
     "text": [
      "Esperando a que los archivos finalicen la descarga...\n"
     ]
    },
    {
     "name": "stdout",
     "output_type": "stream",
     "text": [
      "\n",
      "Iniciando el procesamiento de los archivos Excel...\n",
      "Procesando el archivo: est_rez_2019_actualizado.xlsx\n"
     ]
    },
    {
     "name": "stdout",
     "output_type": "stream",
     "text": [
      "Procesando el archivo: est_rez_2020_actualizado.xlsx\n",
      "Procesando el archivo: est_rez_2021_actualizado.xlsx\n",
      "Procesando el archivo: est_rez_2022_actualizado.xlsx\n",
      "Procesando el archivo: est_rez_2023_actualizado.xlsx\n",
      "Procesando el archivo: est_rez_2024_actualizado.xlsx\n"
     ]
    },
    {
     "name": "stdout",
     "output_type": "stream",
     "text": [
      "El archivo final se guardó en: 'C:\\Users\\joel_\\seguridadDesarrollo\\seguridadDesarrollo\\data\\raw\\rezago_educativo_consolidado.csv'\n"
     ]
    }
   ],
   "source": [
    "\n",
    "\n",
    "#  los datos se deben guardar en la carpeta raw ya que son datos sin procesar\n",
    "download_dir = Path(r'C:\\Users\\joel_\\seguridadDesarrollo\\seguridadDesarrollo\\data\\raw')\n",
    "\n",
    "# Crea el directorio si no existe.\n",
    "download_dir.mkdir(parents=True, exist_ok=True)\n",
    "\n",
    "print(f\"Se configurará la descarga en la carpeta: {download_dir}\")\n",
    "\n",
    "# Configura las opciones de descarga para Chrome.\n",
    "options = Options()\n",
    "options.add_experimental_option(\"prefs\", {\n",
    "    \"download.default_directory\": str(download_dir),\n",
    "    \"download.prompt_for_download\": False,\n",
    "    \"download.directory_upgrade\": True,\n",
    "    \"safebrowsing.enabled\": True\n",
    "})\n",
    "\n",
    "# Abre el navegador y la página web.\n",
    "driver = webdriver.Chrome(options=options)\n",
    "driver.get(\"https://www.gob.mx/inea/documentos/rezago-educativo\")\n",
    "time.sleep(3)\n",
    "\n",
    "# 5. Encuentra y hace clic en cada enlace de descarga.\n",
    "botones = driver.find_elements(By.XPATH, \"//a[contains(@onclick, 'Estimación del rezago educativo al 31 de diciembre de')]\")\n",
    "\n",
    "for boton in botones:\n",
    "    onclick = boton.get_attribute(\"onclick\")\n",
    "    if onclick:\n",
    "        print(f\"Iniciando descarga para: {onclick.split(',')[1]}\")\n",
    "        driver.execute_script(\"arguments[0].click();\", boton)\n",
    "        time.sleep(2)\n",
    "\n",
    "print(\"\\nTodas las descargas han sido iniciadas.\")\n",
    "\n",
    "# 6. Cierra el navegador.\n",
    "driver.quit()\n",
    "\n",
    "print(\"Esperando a que los archivos finalicen la descarga...\")\n",
    "time.sleep(5)\n",
    "\n",
    "print(\"\\nIniciando el procesamiento de los archivos Excel...\")\n",
    "\n",
    "excel_files = list(download_dir.glob('*.xlsx'))\n",
    "\n",
    "if not excel_files:\n",
    "    print(\"\\nNo se encontraron archivos de Excel para procesar.\")\n",
    "else:\n",
    "    all_data = []\n",
    "    for file_path in excel_files:\n",
    "        print(f\"Procesando el archivo: {file_path.name}\")\n",
    "        match = re.search(r'(\\d{4})', file_path.name)\n",
    "        if match:\n",
    "            year = int(match.group(1))\n",
    "\n",
    "            #  las primeras 8 filas no son datos útiles ya que contiene titulos y otras cosas que no son datos\n",
    "            df = pd.read_excel(file_path, skiprows=8)\n",
    " \n",
    "            \n",
    "            df['Año'] = year\n",
    "            all_data.append(df)\n",
    "\n",
    "    # Concatena y limpia los datos.\n",
    "    merged_df = pd.concat(all_data, ignore_index=True)\n",
    "    \n",
    "    merged_df.dropna(subset=['Entidad federativa'], inplace=True)\n",
    "    merged_df = merged_df[~merged_df['Entidad federativa'].str.contains('Total', na=False)]\n",
    "\n",
    "    # Guarda el resultado final.\n",
    "    output_path = download_dir / 'rezago_educativo_consolidado.csv'\n",
    "    merged_df.to_csv(output_path, index=False)\n",
    "    print(f\"El archivo final se guardó en: '{output_path}'\")"
   ]
  },
  {
   "cell_type": "code",
   "execution_count": 11,
   "id": "9f29f784",
   "metadata": {
    "execution": {
     "iopub.execute_input": "2025-10-13T23:24:44.752289Z",
     "iopub.status.busy": "2025-10-13T23:24:44.752055Z",
     "iopub.status.idle": "2025-10-13T23:24:44.755723Z",
     "shell.execute_reply": "2025-10-13T23:24:44.754830Z"
    },
    "papermill": {
     "duration": 0.009882,
     "end_time": "2025-10-13T23:24:44.756787",
     "exception": false,
     "start_time": "2025-10-13T23:24:44.746905",
     "status": "completed"
    },
    "tags": []
   },
   "outputs": [],
   "source": [
    "data_dir = Path(r'C:\\Users\\joel_\\seguridadDesarrollo\\seguridadDesarrollo\\data\\raw')\n",
    "file_path = data_dir / 'rezago_educativo_consolidado.csv'\n",
    "\n",
    "\n"
   ]
  },
  {
   "cell_type": "markdown",
   "id": "36fb3bd7",
   "metadata": {
    "tags": [
     "papermill-error-cell-tag"
    ]
   },
   "source": [
    "<span id=\"papermill-error-cell\" style=\"color:red; font-family:Helvetica Neue, Helvetica, Arial, sans-serif; font-size:2em;\">Execution using papermill encountered an exception here and stopped:</span>"
   ]
  },
  {
   "cell_type": "code",
   "execution_count": 12,
   "id": "efb66f28",
   "metadata": {
    "execution": {
     "iopub.execute_input": "2025-10-13T23:24:44.767756Z",
     "iopub.status.busy": "2025-10-13T23:24:44.767223Z",
     "iopub.status.idle": "2025-10-13T23:24:45.197366Z",
     "shell.execute_reply": "2025-10-13T23:24:45.196521Z"
    },
    "papermill": {
     "duration": 0.43679,
     "end_time": "2025-10-13T23:24:45.198590",
     "exception": true,
     "start_time": "2025-10-13T23:24:44.761800",
     "status": "failed"
    },
    "tags": []
   },
   "outputs": [
    {
     "ename": "NameError",
     "evalue": "name 'df_consolidado' is not defined",
     "output_type": "error",
     "traceback": [
      "\u001b[31m---------------------------------------------------------------------------\u001b[39m",
      "\u001b[31mNameError\u001b[39m                                 Traceback (most recent call last)",
      "\u001b[36mCell\u001b[39m\u001b[36m \u001b[39m\u001b[32mIn[12]\u001b[39m\u001b[32m, line 1\u001b[39m\n\u001b[32m----> \u001b[39m\u001b[32m1\u001b[39m \u001b[43mdf_consolidado\u001b[49m.head(\u001b[32m10\u001b[39m)\n",
      "\u001b[31mNameError\u001b[39m: name 'df_consolidado' is not defined"
     ]
    }
   ],
   "source": [
    "df_consolidado.head(10)"
   ]
  },
  {
   "cell_type": "code",
   "execution_count": null,
   "id": "32f3fec9",
   "metadata": {
    "papermill": {
     "duration": null,
     "end_time": null,
     "exception": null,
     "start_time": null,
     "status": "pending"
    },
    "tags": []
   },
   "outputs": [],
   "source": [
    "df_consolidado.drop(columns=['Entidad federativa'], inplace=True)\n",
    "df_consolidado.rename(columns={'Unnamed: 1': 'entidad_federativa'}, inplace=True)\n",
    "df_consolidado"
   ]
  },
  {
   "cell_type": "code",
   "execution_count": null,
   "id": "726df806",
   "metadata": {
    "papermill": {
     "duration": null,
     "end_time": null,
     "exception": null,
     "start_time": null,
     "status": "pending"
    },
    "tags": []
   },
   "outputs": [],
   "source": [
    "df_consolidado = pd.read_csv(file_path)\n",
    "df_limpio = pd.DataFrame(df_consolidado)\n",
    "df_limpio\n"
   ]
  },
  {
   "cell_type": "code",
   "execution_count": null,
   "id": "53befea3",
   "metadata": {
    "papermill": {
     "duration": null,
     "end_time": null,
     "exception": null,
     "start_time": null,
     "status": "pending"
    },
    "tags": []
   },
   "outputs": [],
   "source": []
  }
 ],
 "metadata": {
  "kernelspec": {
   "display_name": "venv",
   "language": "python",
   "name": "python3"
  },
  "language_info": {
   "codemirror_mode": {
    "name": "ipython",
    "version": 3
   },
   "file_extension": ".py",
   "mimetype": "text/x-python",
   "name": "python",
   "nbconvert_exporter": "python",
   "pygments_lexer": "ipython3",
   "version": "3.13.7"
  },
  "papermill": {
   "default_parameters": {},
   "duration": 52.949942,
   "end_time": "2025-10-13T23:24:45.652560",
   "environment_variables": {},
   "exception": true,
   "input_path": "social.ipynb",
   "output_path": "..\\data\\interim\\social_ejecutado.ipynb",
   "parameters": {},
   "start_time": "2025-10-13T23:23:52.702618",
   "version": "2.6.0"
  }
 },
 "nbformat": 4,
 "nbformat_minor": 5
}