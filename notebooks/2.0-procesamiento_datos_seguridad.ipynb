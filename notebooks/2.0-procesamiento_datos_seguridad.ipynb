{
 "cells": [
  {
   "cell_type": "markdown",
   "id": "ae3274e5",
   "metadata": {},
   "source": [
    "# Procesamiento de Datos de Seguridad\n",
    "\n",
    "Este notebook sirve para probar transformaciones y validaciones antes de implementarlas en el script de procesamiento.\n",
    "\n",
    "## Objetivos:\n",
    "1. Transformar datos raw a formato tidy\n",
    "2. Validar calidad de datos\n",
    "3. Generar datasets listos para análisis"
   ]
  },
  {
   "cell_type": "code",
   "execution_count": null,
   "id": "4209dda4",
   "metadata": {},
   "outputs": [],
   "source": [
    "import pandas as pd\n",
    "import numpy as np\n",
    "from pathlib import Path\n",
    "\n",
    "# Configuración\n",
    "pd.set_option('display.max_columns', None)\n",
    "pd.set_option('display.max_rows', 100)"
   ]
  },
  {
   "cell_type": "code",
   "execution_count": null,
   "id": "1c40b51c",
   "metadata": {},
   "outputs": [],
   "source": [
    "# Rutas\n",
    "PROJECT_ROOT = Path.cwd().parent\n",
    "DATA_RAW = PROJECT_ROOT / 'data' / 'raw'\n",
    "DATA_PROCESSED = PROJECT_ROOT / 'data' / 'processed'\n",
    "DATA_INTERIM = PROJECT_ROOT / 'data' / 'interim'\n",
    "\n",
    "# Crear directorios\n",
    "DATA_PROCESSED.mkdir(parents=True, exist_ok=True)\n",
    "DATA_INTERIM.mkdir(parents=True, exist_ok=True)"
   ]
  },
  {
   "cell_type": "markdown",
   "id": "21d15845",
   "metadata": {},
   "source": [
    "## 1. Procesamiento: Percepción de Inseguridad"
   ]
  },
  {
   "cell_type": "code",
   "execution_count": null,
   "id": "3b2e2a35",
   "metadata": {},
   "outputs": [],
   "source": [
    "# Cargar datos raw\n",
    "df_percepcion_raw = pd.read_csv(DATA_RAW / 'indicador_inseguridad_estados.csv')\n",
    "print(f\"Datos cargados: {df_percepcion_raw.shape}\")\n",
    "df_percepcion_raw.head()"
   ]
  },
  {
   "cell_type": "code",
   "execution_count": null,
   "id": "f39884a4",
   "metadata": {},
   "outputs": [],
   "source": [
    "# Inspeccionar estructura\n",
    "df_percepcion_raw.info()"
   ]
  },
  {
   "cell_type": "code",
   "execution_count": null,
   "id": "03c63087",
   "metadata": {},
   "outputs": [],
   "source": [
    "# Renombrar solo columna de clave (mantener 'año' con ñ)\n",
    "df_perc = df_percepcion_raw.copy()\n",
    "df_perc = df_perc.rename(columns={\n",
    "    'clave': 'cve_entidad'\n",
    "})\n",
    "\n",
    "print(\"Columnas renombradas:\")\n",
    "df_perc.columns.tolist()"
   ]
  },
  {
   "cell_type": "code",
   "execution_count": null,
   "id": "651a65c9",
   "metadata": {},
   "outputs": [],
   "source": [
    "# Convertir tipos de datos\n",
    "df_perc['año'] = df_perc['año'].astype(int)\n",
    "df_perc['valor'] = pd.to_numeric(df_perc['valor'], errors='coerce')\n",
    "df_perc['cve_entidad'] = df_perc['cve_entidad'].astype(str).str.zfill(2)\n",
    "\n",
    "df_perc.info()"
   ]
  },
  {
   "cell_type": "code",
   "execution_count": null,
   "id": "ef48028c",
   "metadata": {},
   "outputs": [],
   "source": [
    "# Agregar columna de categoría de percepción\n",
    "df_perc['nivel_percepcion'] = pd.cut(\n",
    "    df_perc['valor'],\n",
    "    bins=[0, 50000, 70000, 85000, 100000],\n",
    "    labels=['Bajo', 'Medio', 'Alto', 'Muy Alto'],\n",
    "    include_lowest=True\n",
    ")\n",
    "\n",
    "# Indicador de nacional\n",
    "df_perc['es_nacional'] = df_perc['entidad'] == 'Nacional'\n",
    "\n",
    "df_perc.head(10)"
   ]
  },
  {
   "cell_type": "code",
   "execution_count": null,
   "id": "44fae728",
   "metadata": {},
   "outputs": [],
   "source": [
    "# Verificar distribución de niveles\n",
    "print(\"Distribución por nivel de percepción:\")\n",
    "print(df_perc['nivel_percepcion'].value_counts())\n",
    "print(f\"\\nPorcentaje:\")\n",
    "print(df_perc['nivel_percepcion'].value_counts(normalize=True) * 100)"
   ]
  },
  {
   "cell_type": "markdown",
   "id": "2109c8d1",
   "metadata": {},
   "source": [
    "### Validaciones de Calidad - Percepción"
   ]
  },
  {
   "cell_type": "code",
   "execution_count": null,
   "id": "08da71c3",
   "metadata": {},
   "outputs": [],
   "source": [
    "# 1. Verificar valores nulos\n",
    "print(\"Valores nulos:\")\n",
    "print(df_perc.isnull().sum())\n",
    "print(f\"\\nPorcentaje de nulos:\")\n",
    "print(df_perc.isnull().sum() / len(df_perc) * 100)"
   ]
  },
  {
   "cell_type": "code",
   "execution_count": null,
   "id": "8a972169",
   "metadata": {},
   "outputs": [],
   "source": [
    "# 2. Verificar duplicados\n",
    "duplicados = df_perc.duplicated(subset=['año', 'cve_entidad'], keep=False)\n",
    "print(f\"Registros duplicados: {duplicados.sum()}\")\n",
    "\n",
    "if duplicados.sum() > 0:\n",
    "    print(\"\\nDuplicados encontrados:\")\n",
    "    print(df_perc[duplicados].sort_values(['año', 'cve_entidad']))"
   ]
  },
  {
   "cell_type": "code",
   "execution_count": null,
   "id": "86634807",
   "metadata": {},
   "outputs": [],
   "source": [
    "# 3. Verificar rango de valores\n",
    "print(f\"Rango de valores:\")\n",
    "print(f\"  Mínimo: {df_perc['valor'].min()}\")\n",
    "print(f\"  Máximo: {df_perc['valor'].max()}\")\n",
    "print(f\"  Media: {df_perc['valor'].mean():.2f}\")\n",
    "print(f\"  Mediana: {df_perc['valor'].median():.2f}\")\n",
    "\n",
    "# Detectar valores fuera de rango esperado [0, 100000]\n",
    "fuera_rango = df_perc[(df_perc['valor'] < 0) | (df_perc['valor'] > 100000)]\n",
    "print(f\"\\nValores fuera de rango [0, 100000]: {len(fuera_rango)}\")"
   ]
  },
  {
   "cell_type": "code",
   "execution_count": null,
   "id": "01fd286f",
   "metadata": {},
   "outputs": [],
   "source": [
    "# 4. Verificar completitud temporal\n",
    "años_esperados = set(range(2011, 2026))\n",
    "print(f\"Años esperados: {len(años_esperados)}\")\n",
    "print(f\"Rango: {min(años_esperados)} - {max(años_esperados)}\\n\")\n",
    "\n",
    "print(\"Completitud por entidad:\")\n",
    "for entidad in sorted(df_perc['entidad'].unique()):\n",
    "    df_ent = df_perc[df_perc['entidad'] == entidad]\n",
    "    años_disponibles = set(df_ent['año'].unique())\n",
    "    pct_completo = len(años_disponibles) / len(años_esperados) * 100\n",
    "    \n",
    "    status = \"✓\" if pct_completo == 100 else \"⚠\"\n",
    "    print(f\"{status} {entidad:25s}: {pct_completo:5.1f}% ({len(años_disponibles)}/{len(años_esperados)})\")"
   ]
  },
  {
   "cell_type": "code",
   "execution_count": null,
   "id": "1e3e37c0",
   "metadata": {},
   "outputs": [],
   "source": [
    "# Ordenar y guardar (prueba)\n",
    "df_perc_final = df_perc.sort_values(['cve_entidad', 'año']).reset_index(drop=True)\n",
    "\n",
    "print(f\"\\nDataset final:\")\n",
    "print(f\"  Registros: {len(df_perc_final)}\")\n",
    "print(f\"  Columnas: {df_perc_final.columns.tolist()}\")\n",
    "\n",
    "df_perc_final.head()"
   ]
  },
  {
   "cell_type": "markdown",
   "id": "f89c1c9a",
   "metadata": {},
   "source": [
    "## 2. Procesamiento: Incidencia Delictiva\n",
    "\n",
    "Este dataset puede tener estructura más compleja"
   ]
  },
  {
   "cell_type": "code",
   "execution_count": null,
   "id": "c74d004d",
   "metadata": {},
   "outputs": [],
   "source": [
    "# Cargar datos raw\n",
    "df_delictiva_raw = pd.read_csv(\n",
    "    DATA_RAW / 'incidencia_delictiva_estatal_2015_2025.csv',\n",
    "    encoding='latin-1'\n",
    ")\n",
    "\n",
    "print(f\"Datos cargados: {df_delictiva_raw.shape}\")\n",
    "print(f\"\\nColumnas ({len(df_delictiva_raw.columns)}):\")\n",
    "for i, col in enumerate(df_delictiva_raw.columns, 1):\n",
    "    print(f\"  {i}. {col}\")"
   ]
  },
  {
   "cell_type": "code",
   "execution_count": null,
   "id": "7f6320e0",
   "metadata": {},
   "outputs": [],
   "source": [
    "# Ver primeras filas\n",
    "df_delictiva_raw.head()"
   ]
  },
  {
   "cell_type": "code",
   "execution_count": null,
   "id": "8bfda4f8",
   "metadata": {},
   "outputs": [],
   "source": [
    "# Normalizar nombres de columnas\n",
    "df_delic = df_delictiva_raw.copy()\n",
    "df_delic.columns = df_delic.columns.str.strip().str.lower().str.replace(' ', '_')\n",
    "\n",
    "print(\"Columnas normalizadas:\")\n",
    "for col in df_delic.columns[:10]:\n",
    "    print(f\"  - {col}\")"
   ]
  },
  {
   "cell_type": "code",
   "execution_count": null,
   "id": "68289cd6",
   "metadata": {},
   "outputs": [],
   "source": [
    "# Identificar columnas clave\n",
    "print(\"Análisis de columnas:\")\n",
    "print(f\"\\nColumnas numéricas: {len(df_delic.select_dtypes(include=[np.number]).columns)}\")\n",
    "print(f\"Columnas de texto: {len(df_delic.select_dtypes(include=['object']).columns)}\")\n",
    "\n",
    "# Buscar columnas de tiempo\n",
    "cols_tiempo = [col for col in df_delic.columns if any(x in col for x in ['año', 'ano', 'mes', 'fecha'])]\n",
    "print(f\"\\nColumnas de tiempo: {cols_tiempo}\")\n",
    "\n",
    "# Buscar columnas de ubicación\n",
    "cols_ubicacion = [col for col in df_delic.columns if any(x in col for x in ['entidad', 'estado', 'municipio'])]\n",
    "print(f\"Columnas de ubicación: {cols_ubicacion}\")"
   ]
  },
  {
   "cell_type": "code",
   "execution_count": null,
   "id": "a6001f75",
   "metadata": {},
   "outputs": [],
   "source": [
    "# Información detallada\n",
    "df_delic.info()"
   ]
  },
  {
   "cell_type": "code",
   "execution_count": null,
   "id": "dcc694cf",
   "metadata": {},
   "outputs": [],
   "source": [
    "# Valores únicos en columnas de texto\n",
    "for col in df_delic.select_dtypes(include=['object']).columns[:5]:\n",
    "    print(f\"\\n{col}:\")\n",
    "    print(f\"  Valores únicos: {df_delic[col].nunique()}\")\n",
    "    if df_delic[col].nunique() < 20:\n",
    "        print(f\"  Valores: {df_delic[col].unique()[:10]}\")"
   ]
  },
  {
   "cell_type": "markdown",
   "id": "779cb90a",
   "metadata": {},
   "source": [
    "### Guardar Versiones Procesadas"
   ]
  },
  {
   "cell_type": "code",
   "execution_count": null,
   "id": "a45324fe",
   "metadata": {},
   "outputs": [],
   "source": [
    "# Guardar percepción procesada\n",
    "output_perc = DATA_PROCESSED / 'percepcion_inseguridad_procesado.csv'\n",
    "df_perc_final.to_csv(output_perc, index=False)\n",
    "print(f\"✓ Guardado: {output_perc}\")\n",
    "\n",
    "# Guardar solo estados (sin nacional)\n",
    "df_estados = df_perc_final[df_perc_final['entidad'] != 'Nacional'].copy()\n",
    "output_estados = DATA_PROCESSED / 'percepcion_inseguridad_estados.csv'\n",
    "df_estados.to_csv(output_estados, index=False)\n",
    "print(f\"✓ Guardado: {output_estados}\")"
   ]
  },
  {
   "cell_type": "code",
   "execution_count": null,
   "id": "3da44f09",
   "metadata": {},
   "outputs": [],
   "source": [
    "# Guardar incidencia delictiva (versión completa en interim)\n",
    "output_delic = DATA_INTERIM / 'incidencia_delictiva_completa.csv'\n",
    "df_delic.to_csv(output_delic, index=False)\n",
    "print(f\"✓ Guardado: {output_delic}\")"
   ]
  },
  {
   "cell_type": "markdown",
   "id": "18ccfd1d",
   "metadata": {},
   "source": [
    "## 3. Resumen del Procesamiento"
   ]
  },
  {
   "cell_type": "code",
   "execution_count": null,
   "id": "8e39e9fb",
   "metadata": {},
   "outputs": [],
   "source": [
    "print(\"=\" * 80)\n",
    "print(\"RESUMEN DEL PROCESAMIENTO\")\n",
    "print(\"=\" * 80)\n",
    "\n",
    "print(\"\\n📊 PERCEPCIÓN DE INSEGURIDAD:\")\n",
    "print(f\"  Total de registros: {len(df_perc_final)}\")\n",
    "print(f\"  Período: {df_perc_final['año'].min()} - {df_perc_final['año'].max()}\")\n",
    "print(f\"  Entidades: {df_perc_final['entidad'].nunique()}\")\n",
    "print(f\"  Columnas: {', '.join(df_perc_final.columns)}\")\n",
    "\n",
    "print(\"\\n📊 INCIDENCIA DELICTIVA:\")\n",
    "print(f\"  Total de registros: {len(df_delic)}\")\n",
    "print(f\"  Columnas: {len(df_delic.columns)}\")\n",
    "\n",
    "print(\"\\n✅ ARCHIVOS GENERADOS:\")\n",
    "print(f\"  • {output_perc.name}\")\n",
    "print(f\"  • {output_estados.name}\")\n",
    "print(f\"  • {output_delic.name}\")"
   ]
  }
 ],
 "metadata": {
  "language_info": {
   "name": "python"
  }
 },
 "nbformat": 4,
 "nbformat_minor": 5
}
