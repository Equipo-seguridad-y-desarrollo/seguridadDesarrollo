{
 "cells": [
  {
   "cell_type": "code",
   "execution_count": 2,
   "id": "ad9fb6d0-5106-4322-ba9b-26e02ff01558",
   "metadata": {},
   "outputs": [],
   "source": [
    "import requests\n",
    "import pandas as pd"
   ]
  },
  {
   "cell_type": "code",
   "execution_count": 86,
   "id": "66d043eb-1891-4ee3-af13-6d35706d488c",
   "metadata": {},
   "outputs": [
    {
     "name": "stdout",
     "output_type": "stream",
     "text": [
      "['ErrorInfo:No se encontraron resultados', 'ErrorDetails:No se encontraron resultados', 'ErrorCode:100']\n"
     ]
    }
   ],
   "source": [
    "id_ind = {'POB_OCUP': 6200093954}\n",
    "id_mun = {'Hermosillo': 26030}\n",
    "\n",
    "token_inegi = 'a8796886-fee5-44b2-84c1-f65a1ff45d15'\n",
    "url = f\"https://www.inegi.org.mx/app/api/indicadores/desarrolladores/jsonxml/INDICATOR/{id_ind['POB_OCUP']}/es/0700002600/false/BISE/2.0/{token_inegi}?type=json\"\n",
    "#url = f\"https://www.inegi.org.mx/app/api/indicadores/desarrolladores/json/{id_mun['Hermosillo']}/es/{id_mun['Hermosillo']}/false/{token_inegi}\"\n",
    "\n",
    "\n",
    "response = requests.get(url)\n",
    "data = response.json()\n",
    "print(data)\n",
    "#print(data[\"Series\"][0][\"OBSERVATIONS\"][0][\"OBS_VALUE\"])"
   ]
  }
 ],
 "metadata": {
  "kernelspec": {
   "display_name": "Python [conda env:base] *",
   "language": "python",
   "name": "conda-base-py"
  },
  "language_info": {
   "codemirror_mode": {
    "name": "ipython",
    "version": 3
   },
   "file_extension": ".py",
   "mimetype": "text/x-python",
   "name": "python",
   "nbconvert_exporter": "python",
   "pygments_lexer": "ipython3",
   "version": "3.12.7"
  }
 },
 "nbformat": 4,
 "nbformat_minor": 5
}
