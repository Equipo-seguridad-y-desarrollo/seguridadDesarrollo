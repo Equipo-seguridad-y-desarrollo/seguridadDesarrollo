{
 "cells": [
  {
   "cell_type": "markdown",
   "metadata": {
    "id": "8WPiAkiWd_Ro"
   },
   "source": [
    "## <a name=\"0\">Inicio</a>\n",
    "\n",
    "- [1. Importaciones necesarias](#1)\n",
    "\n",
    "- [2. Diccionario de IDs de los municipios del analisis](#2)\n",
    "\n",
    "- [3. Variables Economicas (REMESAS, COMERCIO EXT e INT, )](#3)\n",
    "    *   [3.1. EDA Remesas](#3.1)\n",
    "    *   [3.2. EDA Comercio Exterior e Interior](#3.2)\n",
    "\n",
    "- [4. Graficos Variables Economicas Por Municipio](#4)\n",
    "\n",
    "\n"
   ]
  },
  {
   "cell_type": "markdown",
   "metadata": {
    "id": "7YtkPjcZeKs4"
   },
   "source": [
    "## <a name=\"1\">1. Importaciones necesarias</a>\n",
    "\n",
    "([Ir al inicio](#0))\n"
   ]
  },
  {
   "cell_type": "code",
   "execution_count": 3,
   "metadata": {
    "id": "KOT-ydNrQABR"
   },
   "outputs": [],
   "source": [
    "import requests\n",
    "import pandas as pd\n",
    "import matplotlib.pyplot as plt"
   ]
  },
  {
   "cell_type": "markdown",
   "metadata": {
    "id": "dbB5cycneaTh"
   },
   "source": [
    "## <a name=\"2\">2. Diccionario de IDs de los municipios del analisis</a>\n",
    "\n",
    "([Ir al inicio](#0))"
   ]
  },
  {
   "cell_type": "code",
   "execution_count": 5,
   "metadata": {
    "id": "96XXvpx_Mxdu"
   },
   "outputs": [],
   "source": [
    "# Diccionario de municipios con sus IDs\n",
    "municipios_ids = {\n",
    "    'Hermosillo': 26030,\n",
    "    'Cajeme': 26018,\n",
    "    'Nogales': 26043,\n",
    "    'San Luis Río Colorado': 26055,\n",
    "    'Navojoa': 26042,\n",
    "    'Magdalena de Kino': 26036,\n",
    "    'Agua Prieta': 26002,\n",
    "    'Caborca': 26017,\n",
    "    'Puerto Peñasco': 26048,\n",
    "    'Huatabampo': 26033\n",
    "}"
   ]
  },
  {
   "cell_type": "markdown",
   "metadata": {
    "id": "br7GNbhOepVH"
   },
   "source": [
    "## <a name=\"3\">3. Variables Economicas (REMESAS, COMERCIO EXT e INT, )</a>\n",
    "\n",
    "([Ir al inicio](#0))"
   ]
  },
  {
   "cell_type": "code",
   "execution_count": 9,
   "metadata": {
    "id": "3ZlE52n4P-MP"
   },
   "outputs": [],
   "source": [
    "# ================ Variables Economicas ===================\n",
    "\n",
    "# Lista para almacenar todos los DataFrames\n",
    "remesas = []\n",
    "\n",
    "# Loop por cada municipio\n",
    "for nombre, id_mun in municipios_ids.items():\n",
    "    url = f\"http://www.economia.gob.mx/datamexico/api/data.jsonrecords?Municipality={id_mun}&cube=banxico_mun_income_remittances&drilldowns=Municipality,Quarter&measures=Remittance+Amount&locale=es\"\n",
    "    response = requests.get(url)\n",
    "    if response.status_code == 200:\n",
    "        data = response.json().get(\"data\", [])\n",
    "        df = pd.DataFrame(data)[[\"Municipality\", \"Quarter\", \"Remittance Amount\"]]\n",
    "        remesas.append(df)\n",
    "    else:\n",
    "        print(f\"Error al obtener datos de {nombre}\")\n",
    "\n",
    "# Concatenar todos los DataFrames\n",
    "df_remesas = pd.concat(remesas, ignore_index=True)\n",
    "\n",
    "# Lista para almacenar todos los DataFrames\n",
    "comercio_ext = []\n",
    "\n",
    "# Loop por cada municipio\n",
    "for nombre, id_mun in municipios_ids.items():\n",
    "    url = f\"http://www.economia.gob.mx/datamexico/api/data?Municipality={id_mun}&Product+Level=2&cube=economy_foreign_trade_mun&drilldowns=Month,Flow&measures=Trade+Value&parents=false&locale=es\"\n",
    "    response = requests.get(url)\n",
    "    if response.status_code == 200:\n",
    "        data = response.json().get(\"data\", [])\n",
    "        if data:\n",
    "            df = pd.DataFrame(data)\n",
    "            columnas = [\"Month\", \"Flow\", \"Trade Value\"]\n",
    "            df = df[[col for col in columnas if col in df.columns]]\n",
    "            df.insert(0, \"Municipality\", nombre)  # Insertar como primera columna\n",
    "            comercio_ext.append(df)\n",
    "        else:\n",
    "            print(f\"Sin datos para {nombre}\")\n",
    "    else:\n",
    "        print(f\"Error al obtener datos de {nombre} (status {response.status_code})\")\n",
    "\n",
    "# Concatenar todos los DataFrames\n",
    "df_comercio_ext = pd.concat(comercio_ext, ignore_index=True)"
   ]
  },
  {
   "cell_type": "markdown",
   "metadata": {
    "id": "WCW_L0vRe99u"
   },
   "source": [
    "## <a name=\"3.1\">3.1 EDA Remesas</a>\n",
    "\n",
    "([Ir al inicio](#0))"
   ]
  },
  {
   "cell_type": "code",
   "execution_count": 21,
   "metadata": {
    "id": "vgGg3LvMdcrk"
   },
   "outputs": [
    {
     "data": {
      "text/html": [
       "<div>\n",
       "<style scoped>\n",
       "    .dataframe tbody tr th:only-of-type {\n",
       "        vertical-align: middle;\n",
       "    }\n",
       "\n",
       "    .dataframe tbody tr th {\n",
       "        vertical-align: top;\n",
       "    }\n",
       "\n",
       "    .dataframe thead th {\n",
       "        text-align: right;\n",
       "    }\n",
       "</style>\n",
       "<table border=\"1\" class=\"dataframe\">\n",
       "  <thead>\n",
       "    <tr style=\"text-align: right;\">\n",
       "      <th></th>\n",
       "      <th>Municipality</th>\n",
       "      <th>Quarter</th>\n",
       "      <th>Remittance Amount</th>\n",
       "    </tr>\n",
       "  </thead>\n",
       "  <tbody>\n",
       "    <tr>\n",
       "      <th>0</th>\n",
       "      <td>Hermosillo</td>\n",
       "      <td>2013-Q1</td>\n",
       "      <td>17967135</td>\n",
       "    </tr>\n",
       "    <tr>\n",
       "      <th>1</th>\n",
       "      <td>Hermosillo</td>\n",
       "      <td>2013-Q2</td>\n",
       "      <td>19585900</td>\n",
       "    </tr>\n",
       "    <tr>\n",
       "      <th>2</th>\n",
       "      <td>Hermosillo</td>\n",
       "      <td>2013-Q3</td>\n",
       "      <td>18196749</td>\n",
       "    </tr>\n",
       "    <tr>\n",
       "      <th>3</th>\n",
       "      <td>Hermosillo</td>\n",
       "      <td>2013-Q4</td>\n",
       "      <td>17406996</td>\n",
       "    </tr>\n",
       "    <tr>\n",
       "      <th>4</th>\n",
       "      <td>Hermosillo</td>\n",
       "      <td>2014-Q1</td>\n",
       "      <td>17268599</td>\n",
       "    </tr>\n",
       "    <tr>\n",
       "      <th>5</th>\n",
       "      <td>Hermosillo</td>\n",
       "      <td>2014-Q2</td>\n",
       "      <td>19477728</td>\n",
       "    </tr>\n",
       "    <tr>\n",
       "      <th>6</th>\n",
       "      <td>Hermosillo</td>\n",
       "      <td>2014-Q3</td>\n",
       "      <td>19067498</td>\n",
       "    </tr>\n",
       "    <tr>\n",
       "      <th>7</th>\n",
       "      <td>Hermosillo</td>\n",
       "      <td>2014-Q4</td>\n",
       "      <td>16762738</td>\n",
       "    </tr>\n",
       "    <tr>\n",
       "      <th>8</th>\n",
       "      <td>Hermosillo</td>\n",
       "      <td>2015-Q1</td>\n",
       "      <td>19700121</td>\n",
       "    </tr>\n",
       "    <tr>\n",
       "      <th>9</th>\n",
       "      <td>Hermosillo</td>\n",
       "      <td>2015-Q2</td>\n",
       "      <td>28937968</td>\n",
       "    </tr>\n",
       "    <tr>\n",
       "      <th>10</th>\n",
       "      <td>Hermosillo</td>\n",
       "      <td>2015-Q3</td>\n",
       "      <td>22785631</td>\n",
       "    </tr>\n",
       "    <tr>\n",
       "      <th>11</th>\n",
       "      <td>Hermosillo</td>\n",
       "      <td>2015-Q4</td>\n",
       "      <td>22356382</td>\n",
       "    </tr>\n",
       "    <tr>\n",
       "      <th>12</th>\n",
       "      <td>Hermosillo</td>\n",
       "      <td>2016-Q1</td>\n",
       "      <td>23313695</td>\n",
       "    </tr>\n",
       "    <tr>\n",
       "      <th>13</th>\n",
       "      <td>Hermosillo</td>\n",
       "      <td>2016-Q2</td>\n",
       "      <td>26171670</td>\n",
       "    </tr>\n",
       "    <tr>\n",
       "      <th>14</th>\n",
       "      <td>Hermosillo</td>\n",
       "      <td>2016-Q3</td>\n",
       "      <td>25564935</td>\n",
       "    </tr>\n",
       "    <tr>\n",
       "      <th>15</th>\n",
       "      <td>Hermosillo</td>\n",
       "      <td>2016-Q4</td>\n",
       "      <td>25587394</td>\n",
       "    </tr>\n",
       "    <tr>\n",
       "      <th>16</th>\n",
       "      <td>Hermosillo</td>\n",
       "      <td>2017-Q1</td>\n",
       "      <td>26778863</td>\n",
       "    </tr>\n",
       "    <tr>\n",
       "      <th>17</th>\n",
       "      <td>Hermosillo</td>\n",
       "      <td>2017-Q2</td>\n",
       "      <td>29567658</td>\n",
       "    </tr>\n",
       "    <tr>\n",
       "      <th>18</th>\n",
       "      <td>Hermosillo</td>\n",
       "      <td>2017-Q3</td>\n",
       "      <td>30169014</td>\n",
       "    </tr>\n",
       "    <tr>\n",
       "      <th>19</th>\n",
       "      <td>Hermosillo</td>\n",
       "      <td>2017-Q4</td>\n",
       "      <td>32854777</td>\n",
       "    </tr>\n",
       "  </tbody>\n",
       "</table>\n",
       "</div>"
      ],
      "text/plain": [
       "   Municipality  Quarter  Remittance Amount\n",
       "0    Hermosillo  2013-Q1           17967135\n",
       "1    Hermosillo  2013-Q2           19585900\n",
       "2    Hermosillo  2013-Q3           18196749\n",
       "3    Hermosillo  2013-Q4           17406996\n",
       "4    Hermosillo  2014-Q1           17268599\n",
       "5    Hermosillo  2014-Q2           19477728\n",
       "6    Hermosillo  2014-Q3           19067498\n",
       "7    Hermosillo  2014-Q4           16762738\n",
       "8    Hermosillo  2015-Q1           19700121\n",
       "9    Hermosillo  2015-Q2           28937968\n",
       "10   Hermosillo  2015-Q3           22785631\n",
       "11   Hermosillo  2015-Q4           22356382\n",
       "12   Hermosillo  2016-Q1           23313695\n",
       "13   Hermosillo  2016-Q2           26171670\n",
       "14   Hermosillo  2016-Q3           25564935\n",
       "15   Hermosillo  2016-Q4           25587394\n",
       "16   Hermosillo  2017-Q1           26778863\n",
       "17   Hermosillo  2017-Q2           29567658\n",
       "18   Hermosillo  2017-Q3           30169014\n",
       "19   Hermosillo  2017-Q4           32854777"
      ]
     },
     "execution_count": 21,
     "metadata": {},
     "output_type": "execute_result"
    }
   ],
   "source": [
    "# Imprimir las primeras cinco filas\n",
    "df_remesas.head(20)"
   ]
  },
  {
   "cell_type": "code",
   "execution_count": 12,
   "metadata": {
    "id": "ywY-OSCld3ES"
   },
   "outputs": [
    {
     "name": "stdout",
     "output_type": "stream",
     "text": [
      "<class 'pandas.core.frame.DataFrame'>\n",
      "RangeIndex: 500 entries, 0 to 499\n",
      "Data columns (total 3 columns):\n",
      " #   Column             Non-Null Count  Dtype \n",
      "---  ------             --------------  ----- \n",
      " 0   Municipality       500 non-null    object\n",
      " 1   Quarter            500 non-null    object\n",
      " 2   Remittance Amount  500 non-null    int64 \n",
      "dtypes: int64(1), object(2)\n",
      "memory usage: 11.8+ KB\n"
     ]
    }
   ],
   "source": [
    "# Veamos los tipos de datos y valores no nulos para cada columna\n",
    "df_remesas.info()"
   ]
  },
  {
   "cell_type": "code",
   "execution_count": 13,
   "metadata": {
    "id": "9G0eWMhFfwoM"
   },
   "outputs": [
    {
     "data": {
      "text/html": [
       "<div>\n",
       "<style scoped>\n",
       "    .dataframe tbody tr th:only-of-type {\n",
       "        vertical-align: middle;\n",
       "    }\n",
       "\n",
       "    .dataframe tbody tr th {\n",
       "        vertical-align: top;\n",
       "    }\n",
       "\n",
       "    .dataframe thead th {\n",
       "        text-align: right;\n",
       "    }\n",
       "</style>\n",
       "<table border=\"1\" class=\"dataframe\">\n",
       "  <thead>\n",
       "    <tr style=\"text-align: right;\">\n",
       "      <th></th>\n",
       "      <th>Remittance Amount</th>\n",
       "    </tr>\n",
       "  </thead>\n",
       "  <tbody>\n",
       "    <tr>\n",
       "      <th>count</th>\n",
       "      <td>5.000000e+02</td>\n",
       "    </tr>\n",
       "    <tr>\n",
       "      <th>mean</th>\n",
       "      <td>1.284018e+07</td>\n",
       "    </tr>\n",
       "    <tr>\n",
       "      <th>std</th>\n",
       "      <td>1.315120e+07</td>\n",
       "    </tr>\n",
       "    <tr>\n",
       "      <th>min</th>\n",
       "      <td>7.784520e+05</td>\n",
       "    </tr>\n",
       "    <tr>\n",
       "      <th>25%</th>\n",
       "      <td>4.370993e+06</td>\n",
       "    </tr>\n",
       "    <tr>\n",
       "      <th>50%</th>\n",
       "      <td>8.371534e+06</td>\n",
       "    </tr>\n",
       "    <tr>\n",
       "      <th>75%</th>\n",
       "      <td>1.782838e+07</td>\n",
       "    </tr>\n",
       "    <tr>\n",
       "      <th>max</th>\n",
       "      <td>7.377033e+07</td>\n",
       "    </tr>\n",
       "  </tbody>\n",
       "</table>\n",
       "</div>"
      ],
      "text/plain": [
       "       Remittance Amount\n",
       "count       5.000000e+02\n",
       "mean        1.284018e+07\n",
       "std         1.315120e+07\n",
       "min         7.784520e+05\n",
       "25%         4.370993e+06\n",
       "50%         8.371534e+06\n",
       "75%         1.782838e+07\n",
       "max         7.377033e+07"
      ]
     },
     "execution_count": 13,
     "metadata": {},
     "output_type": "execute_result"
    }
   ],
   "source": [
    "# Esto imprime estadísticas básicas para todas las columnas numéricas\n",
    "df_remesas.describe()"
   ]
  },
  {
   "cell_type": "markdown",
   "metadata": {
    "id": "UAlnA7ZKf6eA"
   },
   "source": [
    "## <a name=\"3.2\">3.2 EDA Comercio exterior e interior</a>\n",
    "\n",
    "([Ir al inicio](#0))"
   ]
  },
  {
   "cell_type": "code",
   "execution_count": 15,
   "metadata": {
    "id": "VZNWekcNgRUO"
   },
   "outputs": [
    {
     "data": {
      "text/html": [
       "<div>\n",
       "<style scoped>\n",
       "    .dataframe tbody tr th:only-of-type {\n",
       "        vertical-align: middle;\n",
       "    }\n",
       "\n",
       "    .dataframe tbody tr th {\n",
       "        vertical-align: top;\n",
       "    }\n",
       "\n",
       "    .dataframe thead th {\n",
       "        text-align: right;\n",
       "    }\n",
       "</style>\n",
       "<table border=\"1\" class=\"dataframe\">\n",
       "  <thead>\n",
       "    <tr style=\"text-align: right;\">\n",
       "      <th></th>\n",
       "      <th>Municipality</th>\n",
       "      <th>Month</th>\n",
       "      <th>Flow</th>\n",
       "      <th>Trade Value</th>\n",
       "    </tr>\n",
       "  </thead>\n",
       "  <tbody>\n",
       "    <tr>\n",
       "      <th>0</th>\n",
       "      <td>Hermosillo</td>\n",
       "      <td>2006-01</td>\n",
       "      <td>Compras internacionales</td>\n",
       "      <td>86629925</td>\n",
       "    </tr>\n",
       "    <tr>\n",
       "      <th>1</th>\n",
       "      <td>Hermosillo</td>\n",
       "      <td>2006-01</td>\n",
       "      <td>Ventas internacionales</td>\n",
       "      <td>64610295</td>\n",
       "    </tr>\n",
       "    <tr>\n",
       "      <th>2</th>\n",
       "      <td>Hermosillo</td>\n",
       "      <td>2006-02</td>\n",
       "      <td>Compras internacionales</td>\n",
       "      <td>93366546</td>\n",
       "    </tr>\n",
       "    <tr>\n",
       "      <th>3</th>\n",
       "      <td>Hermosillo</td>\n",
       "      <td>2006-02</td>\n",
       "      <td>Ventas internacionales</td>\n",
       "      <td>66776754</td>\n",
       "    </tr>\n",
       "    <tr>\n",
       "      <th>4</th>\n",
       "      <td>Hermosillo</td>\n",
       "      <td>2006-03</td>\n",
       "      <td>Compras internacionales</td>\n",
       "      <td>110531356</td>\n",
       "    </tr>\n",
       "  </tbody>\n",
       "</table>\n",
       "</div>"
      ],
      "text/plain": [
       "  Municipality    Month                     Flow  Trade Value\n",
       "0   Hermosillo  2006-01  Compras internacionales     86629925\n",
       "1   Hermosillo  2006-01   Ventas internacionales     64610295\n",
       "2   Hermosillo  2006-02  Compras internacionales     93366546\n",
       "3   Hermosillo  2006-02   Ventas internacionales     66776754\n",
       "4   Hermosillo  2006-03  Compras internacionales    110531356"
      ]
     },
     "execution_count": 15,
     "metadata": {},
     "output_type": "execute_result"
    }
   ],
   "source": [
    "# Imprimir las primeras cinco filas\n",
    "df_comercio_ext.head()"
   ]
  },
  {
   "cell_type": "code",
   "execution_count": 16,
   "metadata": {
    "id": "GQgXDwFNgRUP"
   },
   "outputs": [
    {
     "name": "stdout",
     "output_type": "stream",
     "text": [
      "<class 'pandas.core.frame.DataFrame'>\n",
      "RangeIndex: 3974 entries, 0 to 3973\n",
      "Data columns (total 4 columns):\n",
      " #   Column        Non-Null Count  Dtype \n",
      "---  ------        --------------  ----- \n",
      " 0   Municipality  3974 non-null   object\n",
      " 1   Month         3974 non-null   object\n",
      " 2   Flow          3974 non-null   object\n",
      " 3   Trade Value   3974 non-null   int64 \n",
      "dtypes: int64(1), object(3)\n",
      "memory usage: 124.3+ KB\n"
     ]
    }
   ],
   "source": [
    "# Veamos los tipos de datos y valores no nulos para cada columna\n",
    "df_comercio_ext.info()"
   ]
  },
  {
   "cell_type": "code",
   "execution_count": 17,
   "metadata": {
    "id": "WRedMlf3gRUP"
   },
   "outputs": [
    {
     "data": {
      "text/html": [
       "<div>\n",
       "<style scoped>\n",
       "    .dataframe tbody tr th:only-of-type {\n",
       "        vertical-align: middle;\n",
       "    }\n",
       "\n",
       "    .dataframe tbody tr th {\n",
       "        vertical-align: top;\n",
       "    }\n",
       "\n",
       "    .dataframe thead th {\n",
       "        text-align: right;\n",
       "    }\n",
       "</style>\n",
       "<table border=\"1\" class=\"dataframe\">\n",
       "  <thead>\n",
       "    <tr style=\"text-align: right;\">\n",
       "      <th></th>\n",
       "      <th>Trade Value</th>\n",
       "    </tr>\n",
       "  </thead>\n",
       "  <tbody>\n",
       "    <tr>\n",
       "      <th>count</th>\n",
       "      <td>3.974000e+03</td>\n",
       "    </tr>\n",
       "    <tr>\n",
       "      <th>mean</th>\n",
       "      <td>7.448062e+07</td>\n",
       "    </tr>\n",
       "    <tr>\n",
       "      <th>std</th>\n",
       "      <td>1.037742e+08</td>\n",
       "    </tr>\n",
       "    <tr>\n",
       "      <th>min</th>\n",
       "      <td>8.200000e+01</td>\n",
       "    </tr>\n",
       "    <tr>\n",
       "      <th>25%</th>\n",
       "      <td>4.667893e+06</td>\n",
       "    </tr>\n",
       "    <tr>\n",
       "      <th>50%</th>\n",
       "      <td>3.041973e+07</td>\n",
       "    </tr>\n",
       "    <tr>\n",
       "      <th>75%</th>\n",
       "      <td>8.622142e+07</td>\n",
       "    </tr>\n",
       "    <tr>\n",
       "      <th>max</th>\n",
       "      <td>5.802366e+08</td>\n",
       "    </tr>\n",
       "  </tbody>\n",
       "</table>\n",
       "</div>"
      ],
      "text/plain": [
       "        Trade Value\n",
       "count  3.974000e+03\n",
       "mean   7.448062e+07\n",
       "std    1.037742e+08\n",
       "min    8.200000e+01\n",
       "25%    4.667893e+06\n",
       "50%    3.041973e+07\n",
       "75%    8.622142e+07\n",
       "max    5.802366e+08"
      ]
     },
     "execution_count": 17,
     "metadata": {},
     "output_type": "execute_result"
    }
   ],
   "source": [
    "# Esto imprime estadísticas básicas para todas las columnas numéricas\n",
    "df_comercio_ext.describe()"
   ]
  },
  {
   "cell_type": "markdown",
   "metadata": {
    "id": "-IV5vzWrd6gN"
   },
   "source": [
    "## <a name=\"4\">4. Graficos Variables Economicas Por Municipio</a>\n",
    "\n",
    "([Ir al inicio](#0))"
   ]
  },
  {
   "cell_type": "code",
   "execution_count": 19,
   "metadata": {
    "id": "I2BlYtpIfAD6"
   },
   "outputs": [
    {
     "ename": "NameError",
     "evalue": "name 'df_total' is not defined",
     "output_type": "error",
     "traceback": [
      "\u001b[1;31m---------------------------------------------------------------------------\u001b[0m",
      "\u001b[1;31mNameError\u001b[0m                                 Traceback (most recent call last)",
      "Cell \u001b[1;32mIn[19], line 4\u001b[0m\n\u001b[0;32m      1\u001b[0m \u001b[38;5;66;03m# ================ Grafica x 10 Remesas netas ===================\u001b[39;00m\n\u001b[0;32m      2\u001b[0m \n\u001b[0;32m      3\u001b[0m \u001b[38;5;66;03m# Crear un gráfico por municipio\u001b[39;00m\n\u001b[1;32m----> 4\u001b[0m \u001b[38;5;28;01mfor\u001b[39;00m municipio \u001b[38;5;129;01min\u001b[39;00m df_total[\u001b[38;5;124m\"\u001b[39m\u001b[38;5;124mMunicipality\u001b[39m\u001b[38;5;124m\"\u001b[39m]\u001b[38;5;241m.\u001b[39munique():\n\u001b[0;32m      5\u001b[0m     df_mun \u001b[38;5;241m=\u001b[39m df_total[df_total[\u001b[38;5;124m\"\u001b[39m\u001b[38;5;124mMunicipality\u001b[39m\u001b[38;5;124m\"\u001b[39m] \u001b[38;5;241m==\u001b[39m municipio]\u001b[38;5;241m.\u001b[39msort_values(\u001b[38;5;124m\"\u001b[39m\u001b[38;5;124mQuarter\u001b[39m\u001b[38;5;124m\"\u001b[39m)\n\u001b[0;32m      6\u001b[0m     plt\u001b[38;5;241m.\u001b[39mfigure(figsize\u001b[38;5;241m=\u001b[39m(\u001b[38;5;241m10\u001b[39m, \u001b[38;5;241m5\u001b[39m))\n",
      "\u001b[1;31mNameError\u001b[0m: name 'df_total' is not defined"
     ]
    }
   ],
   "source": [
    "# ================ Grafica x 10 Remesas netas ===================\n",
    "\n",
    "# Crear un gráfico por municipio\n",
    "for municipio in df_total[\"Municipality\"].unique():\n",
    "    df_mun = df_total[df_total[\"Municipality\"] == municipio].sort_values(\"Quarter\")\n",
    "    plt.figure(figsize=(10, 5))\n",
    "    plt.plot(df_mun[\"Quarter\"], df_mun[\"Remittance Amount\"], marker='o')\n",
    "    plt.title(f\"Remesas por trimestre - {municipio}\")\n",
    "    plt.xlabel(\"Trimestre\")\n",
    "    plt.ylabel(\"Monto de remesas (MXN)\")\n",
    "    plt.xticks(rotation=45)\n",
    "    plt.grid(True)\n",
    "    plt.tight_layout()\n",
    "    plt.show()\n",
    "\n",
    "# ================ Grafica x 10 Comercio internacional neto ===================\n",
    "\n",
    "# Asegurar que las fechas estén ordenadas correctamente\n",
    "df_comercio_ext[\"Month\"] = pd.to_datetime(df_comercio_ext[\"Month\"], format=\"%Y-%m\")\n",
    "\n",
    "# Crear un gráfico por municipio\n",
    "for municipio in df_comercio_ext[\"Municipality\"].unique():\n",
    "    df_mun = df_comercio_ext[df_comercio_ext[\"Municipality\"] == municipio]\n",
    "\n",
    "    plt.figure(figsize=(12, 6))\n",
    "\n",
    "    # Graficar cada tipo de flujo por separado\n",
    "    for flujo in df_mun[\"Flow\"].unique():\n",
    "        df_flujo = df_mun[df_mun[\"Flow\"] == flujo].sort_values(\"Month\")\n",
    "        plt.plot(df_flujo[\"Month\"], df_flujo[\"Trade Value\"], label=flujo, marker='o')\n",
    "\n",
    "    plt.title(f\"Comercio exterior mensual - {municipio}\")\n",
    "    plt.xlabel(\"Mes\")\n",
    "    plt.ylabel(\"Valor comercial (MXN)\")\n",
    "    plt.legend()\n",
    "    plt.grid(True)\n",
    "    plt.tight_layout()\n",
    "    plt.xticks(rotation=45)\n",
    "    plt.show()"
   ]
  },
  {
   "cell_type": "code",
   "execution_count": null,
   "metadata": {},
   "outputs": [],
   "source": []
  },
  {
   "cell_type": "code",
   "execution_count": null,
   "metadata": {},
   "outputs": [],
   "source": []
  },
  {
   "cell_type": "code",
   "execution_count": null,
   "metadata": {},
   "outputs": [],
   "source": []
  }
 ],
 "metadata": {
  "colab": {
   "provenance": []
  },
  "kernelspec": {
   "display_name": "Python [conda env:base] *",
   "language": "python",
   "name": "conda-base-py"
  },
  "language_info": {
   "codemirror_mode": {
    "name": "ipython",
    "version": 3
   },
   "file_extension": ".py",
   "mimetype": "text/x-python",
   "name": "python",
   "nbconvert_exporter": "python",
   "pygments_lexer": "ipython3",
   "version": "3.12.7"
  }
 },
 "nbformat": 4,
 "nbformat_minor": 4
}
