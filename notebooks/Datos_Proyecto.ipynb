{
  "nbformat": 4,
  "nbformat_minor": 0,
  "metadata": {
    "colab": {
      "provenance": []
    },
    "kernelspec": {
      "name": "python3",
      "display_name": "Python 3"
    },
    "language_info": {
      "name": "python"
    }
  },
  "cells": [
    {
      "cell_type": "markdown",
      "source": [
        "## <a name=\"0\">Inicio</a>\n",
        "\n",
        "- [1. Importaciones necesarias](#1)\n",
        "\n",
        "- [2. Diccionario de IDs de los municipios del analisis](#2)\n",
        "\n",
        "- [3. Variables Economicas (REMESAS, COMERCIO EXT e INT, )](#3)\n",
        "    *   [3.1. EDA Remesas](#3.1)\n",
        "    *   [3.2. EDA Comercio Exterior e Interior](#3.2)\n",
        "\n",
        "- [4. Graficos Variables Economicas Por Municipio](#4)\n",
        "\n",
        "\n"
      ],
      "metadata": {
        "id": "8WPiAkiWd_Ro"
      }
    },
    {
      "cell_type": "markdown",
      "source": [
        "## <a name=\"1\">1. Importaciones necesarias</a>\n",
        "\n",
        "([Ir al inicio](#0))\n"
      ],
      "metadata": {
        "id": "7YtkPjcZeKs4"
      }
    },
    {
      "cell_type": "code",
      "source": [
        "import requests\n",
        "import pandas as pd\n",
        "import matplotlib.pyplot as plt"
      ],
      "metadata": {
        "id": "KOT-ydNrQABR"
      },
      "execution_count": null,
      "outputs": []
    },
    {
      "cell_type": "markdown",
      "source": [
        "## <a name=\"2\">2. Diccionario de IDs de los municipios del analisis</a>\n",
        "\n",
        "([Ir al inicio](#0))"
      ],
      "metadata": {
        "id": "dbB5cycneaTh"
      }
    },
    {
      "cell_type": "code",
      "execution_count": null,
      "metadata": {
        "id": "96XXvpx_Mxdu"
      },
      "outputs": [],
      "source": [
        "# Diccionario de municipios con sus IDs\n",
        "municipios_ids = {\n",
        "    'Hermosillo': 26030,\n",
        "    'Cajeme': 26018,\n",
        "    'Nogales': 26043,\n",
        "    'San Luis Río Colorado': 26055,\n",
        "    'Navojoa': 26042,\n",
        "    'Magdalena de Kino': 26036,\n",
        "    'Agua Prieta': 26002,\n",
        "    'Caborca': 26017,\n",
        "    'Puerto Peñasco': 26048,\n",
        "    'Huatabampo': 26033\n",
        "}"
      ]
    },
    {
      "cell_type": "markdown",
      "source": [
        "## <a name=\"3\">3. Variables Economicas (REMESAS, COMERCIO EXT e INT, )</a>\n",
        "\n",
        "([Ir al inicio](#0))"
      ],
      "metadata": {
        "id": "br7GNbhOepVH"
      }
    },
    {
      "cell_type": "code",
      "source": [
        "# ================ Variables Economicas ===================\n",
        "\n",
        "# Lista para almacenar todos los DataFrames\n",
        "remesas = []\n",
        "\n",
        "# Loop por cada municipio\n",
        "for nombre, id_mun in municipios_ids.items():\n",
        "    url = f\"http://www.economia.gob.mx/datamexico/api/data.jsonrecords?Municipality={id_mun}&cube=banxico_mun_income_remittances&drilldowns=Municipality,Quarter&measures=Remittance+Amount&locale=es\"\n",
        "    response = requests.get(url)\n",
        "    if response.status_code == 200:\n",
        "        data = response.json().get(\"data\", [])\n",
        "        df = pd.DataFrame(data)[[\"Municipality\", \"Quarter\", \"Remittance Amount\"]]\n",
        "        remesas.append(df)\n",
        "    else:\n",
        "        print(f\"Error al obtener datos de {nombre}\")\n",
        "\n",
        "# Concatenar todos los DataFrames\n",
        "df_remesas = pd.concat(remesas, ignore_index=True)\n",
        "\n",
        "# Lista para almacenar todos los DataFrames\n",
        "comercio_ext = []\n",
        "\n",
        "# Loop por cada municipio\n",
        "for nombre, id_mun in municipios_ids.items():\n",
        "    url = f\"http://www.economia.gob.mx/datamexico/api/data?Municipality={id_mun}&Product+Level=2&cube=economy_foreign_trade_mun&drilldowns=Month,Flow&measures=Trade+Value&parents=false&locale=es\"\n",
        "    response = requests.get(url)\n",
        "    if response.status_code == 200:\n",
        "        data = response.json().get(\"data\", [])\n",
        "        if data:\n",
        "            df = pd.DataFrame(data)\n",
        "            columnas = [\"Month\", \"Flow\", \"Trade Value\"]\n",
        "            df = df[[col for col in columnas if col in df.columns]]\n",
        "            df.insert(0, \"Municipality\", nombre)  # Insertar como primera columna\n",
        "            comercio_ext.append(df)\n",
        "        else:\n",
        "            print(f\"Sin datos para {nombre}\")\n",
        "    else:\n",
        "        print(f\"Error al obtener datos de {nombre} (status {response.status_code})\")\n",
        "\n",
        "# Concatenar todos los DataFrames\n",
        "df_comercio_ext = pd.concat(comercio_ext, ignore_index=True)"
      ],
      "metadata": {
        "id": "3ZlE52n4P-MP"
      },
      "execution_count": null,
      "outputs": []
    },
    {
      "cell_type": "markdown",
      "source": [
        "## <a name=\"3.1\">3.1 EDA Remesas</a>\n",
        "\n",
        "([Ir al inicio](#0))"
      ],
      "metadata": {
        "id": "WCW_L0vRe99u"
      }
    },
    {
      "cell_type": "code",
      "source": [
        "# Imprimir las primeras cinco filas\n",
        "df_remesas.head()"
      ],
      "metadata": {
        "id": "vgGg3LvMdcrk"
      },
      "execution_count": null,
      "outputs": []
    },
    {
      "cell_type": "code",
      "source": [
        "# Veamos los tipos de datos y valores no nulos para cada columna\n",
        "df_remesas.info()"
      ],
      "metadata": {
        "id": "ywY-OSCld3ES"
      },
      "execution_count": null,
      "outputs": []
    },
    {
      "cell_type": "code",
      "source": [
        "# Esto imprime estadísticas básicas para todas las columnas numéricas\n",
        "df_remesas.describe()"
      ],
      "metadata": {
        "id": "9G0eWMhFfwoM"
      },
      "execution_count": null,
      "outputs": []
    },
    {
      "cell_type": "markdown",
      "source": [
        "## <a name=\"3.2\">3.2 EDA Comercio exterior e interior</a>\n",
        "\n",
        "([Ir al inicio](#0))"
      ],
      "metadata": {
        "id": "UAlnA7ZKf6eA"
      }
    },
    {
      "cell_type": "code",
      "source": [
        "# Imprimir las primeras cinco filas\n",
        "df_comercio_ext.head()"
      ],
      "metadata": {
        "id": "VZNWekcNgRUO"
      },
      "execution_count": null,
      "outputs": []
    },
    {
      "cell_type": "code",
      "source": [
        "# Veamos los tipos de datos y valores no nulos para cada columna\n",
        "df_comercio_ext.info()"
      ],
      "metadata": {
        "id": "GQgXDwFNgRUP"
      },
      "execution_count": null,
      "outputs": []
    },
    {
      "cell_type": "code",
      "source": [
        "# Esto imprime estadísticas básicas para todas las columnas numéricas\n",
        "df_comercio_ext.describe()"
      ],
      "metadata": {
        "id": "WRedMlf3gRUP"
      },
      "execution_count": null,
      "outputs": []
    },
    {
      "cell_type": "markdown",
      "source": [
        "## <a name=\"4\">4. Graficos Variables Economicas Por Municipio</a>\n",
        "\n",
        "([Ir al inicio](#0))"
      ],
      "metadata": {
        "id": "-IV5vzWrd6gN"
      }
    },
    {
      "cell_type": "code",
      "source": [
        "# ================ Grafica x 10 Remesas netas ===================\n",
        "\n",
        "# Crear un gráfico por municipio\n",
        "for municipio in df_total[\"Municipality\"].unique():\n",
        "    df_mun = df_total[df_total[\"Municipality\"] == municipio].sort_values(\"Quarter\")\n",
        "    plt.figure(figsize=(10, 5))\n",
        "    plt.plot(df_mun[\"Quarter\"], df_mun[\"Remittance Amount\"], marker='o')\n",
        "    plt.title(f\"Remesas por trimestre - {municipio}\")\n",
        "    plt.xlabel(\"Trimestre\")\n",
        "    plt.ylabel(\"Monto de remesas (MXN)\")\n",
        "    plt.xticks(rotation=45)\n",
        "    plt.grid(True)\n",
        "    plt.tight_layout()\n",
        "    plt.show()\n",
        "\n",
        "# ================ Grafica x 10 Comercio internacional neto ===================\n",
        "\n",
        "# Asegurar que las fechas estén ordenadas correctamente\n",
        "df_comercio_ext[\"Month\"] = pd.to_datetime(df_comercio_ext[\"Month\"], format=\"%Y-%m\")\n",
        "\n",
        "# Crear un gráfico por municipio\n",
        "for municipio in df_comercio_ext[\"Municipality\"].unique():\n",
        "    df_mun = df_comercio_ext[df_comercio_ext[\"Municipality\"] == municipio]\n",
        "\n",
        "    plt.figure(figsize=(12, 6))\n",
        "\n",
        "    # Graficar cada tipo de flujo por separado\n",
        "    for flujo in df_mun[\"Flow\"].unique():\n",
        "        df_flujo = df_mun[df_mun[\"Flow\"] == flujo].sort_values(\"Month\")\n",
        "        plt.plot(df_flujo[\"Month\"], df_flujo[\"Trade Value\"], label=flujo, marker='o')\n",
        "\n",
        "    plt.title(f\"Comercio exterior mensual - {municipio}\")\n",
        "    plt.xlabel(\"Mes\")\n",
        "    plt.ylabel(\"Valor comercial (MXN)\")\n",
        "    plt.legend()\n",
        "    plt.grid(True)\n",
        "    plt.tight_layout()\n",
        "    plt.xticks(rotation=45)\n",
        "    plt.show()"
      ],
      "metadata": {
        "collapsed": true,
        "id": "I2BlYtpIfAD6"
      },
      "execution_count": null,
      "outputs": []
    }
  ]
}