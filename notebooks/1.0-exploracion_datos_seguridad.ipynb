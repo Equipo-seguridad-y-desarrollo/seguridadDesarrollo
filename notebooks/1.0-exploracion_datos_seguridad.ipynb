{
 "cells": [
  {
   "cell_type": "markdown",
   "id": "c551947f",
   "metadata": {},
   "source": [
    "# Exploración de Datos de Seguridad en México\n",
    "\n",
    "Este notebook sirve para probar la descarga de datos de seguridad y realizar una exploración inicial antes de procesar los datos.\n",
    "\n",
    "## Fuentes de datos:\n",
    "1. **Percepción de Inseguridad** - INEGI/ENVIPE (2011-2025)\n",
    "2. **Incidencia Delictiva Estatal** - SESNSP (2015-2025)"
   ]
  },
  {
   "cell_type": "code",
   "execution_count": null,
   "id": "ff4ecfd0",
   "metadata": {},
   "outputs": [
    {
     "ename": "",
     "evalue": "",
     "output_type": "error",
     "traceback": [
      "\u001b[1;31mRunning cells with 'base (Python 3.12.3)' requires the ipykernel package.\n",
      "\u001b[1;31mInstall 'ipykernel' into the Python environment. \n",
      "\u001b[1;31mCommand: 'conda install -n base ipykernel --update-deps --force-reinstall'"
     ]
    }
   ],
   "source": [
    "import pandas as pd\n",
    "import numpy as np\n",
    "import matplotlib.pyplot as plt\n",
    "import seaborn as sns\n",
    "from pathlib import Path\n",
    "\n",
    "# Configuración de visualización\n",
    "plt.style.use('seaborn-v0_8-darkgrid')\n",
    "sns.set_palette('husl')\n",
    "%matplotlib inline"
   ]
  },
  {
   "cell_type": "markdown",
   "id": "5717ae9c",
   "metadata": {},
   "source": [
    "## 1. Configuración de Rutas"
   ]
  },
  {
   "cell_type": "code",
   "execution_count": null,
   "id": "2641aeb4",
   "metadata": {},
   "outputs": [],
   "source": [
    "# Rutas del proyecto\n",
    "PROJECT_ROOT = Path.cwd().parent\n",
    "DATA_RAW = PROJECT_ROOT / 'data' / 'raw'\n",
    "DATA_PROCESSED = PROJECT_ROOT / 'data' / 'processed'\n",
    "DATA_INTERIM = PROJECT_ROOT / 'data' / 'interim'\n",
    "\n",
    "print(f\"Proyecto: {PROJECT_ROOT}\")\n",
    "print(f\"Datos raw: {DATA_RAW}\")\n",
    "print(f\"Datos procesados: {DATA_PROCESSED}\")"
   ]
  },
  {
   "cell_type": "markdown",
   "id": "80a3aedf",
   "metadata": {},
   "source": [
    "## 2. Prueba de Descarga de Datos\n",
    "\n",
    "Primero probamos la descarga usando el script (opcional si ya tienes los datos)"
   ]
  },
  {
   "cell_type": "code",
   "execution_count": null,
   "id": "cfad4df0",
   "metadata": {},
   "outputs": [],
   "source": [
    "# Ejecutar descarga (comentar si ya tienes los datos)\n",
    "# !python datos_seguridad_mexico.py --token 32805429-135c-9311-70c1-0b963c6f8317"
   ]
  },
  {
   "cell_type": "markdown",
   "id": "ab117a37",
   "metadata": {},
   "source": [
    "## 3. Cargar Datos Raw\n",
    "\n",
    "### 3.1 Percepción de Inseguridad"
   ]
  },
  {
   "cell_type": "code",
   "execution_count": null,
   "id": "103b5b82",
   "metadata": {},
   "outputs": [],
   "source": [
    "# Cargar datos de percepción\n",
    "df_percepcion = pd.read_csv(DATA_RAW / 'indicador_inseguridad_estados.csv')\n",
    "\n",
    "print(f\"Shape: {df_percepcion.shape}\")\n",
    "print(f\"\\nColumnas: {df_percepcion.columns.tolist()}\")\n",
    "print(f\"\\nPrimeras filas:\")\n",
    "df_percepcion.head(10)"
   ]
  },
  {
   "cell_type": "code",
   "execution_count": null,
   "id": "734f2321",
   "metadata": {},
   "outputs": [],
   "source": [
    "# Información general\n",
    "df_percepcion.info()"
   ]
  },
  {
   "cell_type": "code",
   "execution_count": null,
   "id": "62ab7dab",
   "metadata": {},
   "outputs": [],
   "source": [
    "# Estadísticas descriptivas\n",
    "df_percepcion.describe()"
   ]
  },
  {
   "cell_type": "code",
   "execution_count": null,
   "id": "9e8cce0b",
   "metadata": {},
   "outputs": [],
   "source": [
    "# Verificar valores nulos\n",
    "print(\"Valores nulos por columna:\")\n",
    "print(df_percepcion.isnull().sum())\n",
    "print(f\"\\nPorcentaje de nulos:\")\n",
    "print(df_percepcion.isnull().sum() / len(df_percepcion) * 100)"
   ]
  },
  {
   "cell_type": "code",
   "execution_count": null,
   "id": "6eb14dda",
   "metadata": {},
   "outputs": [],
   "source": [
    "# Rango de años\n",
    "print(f\"Años disponibles: {df_percepcion['año'].min()} - {df_percepcion['año'].max()}\")\n",
    "print(f\"\\nEntidades únicas: {df_percepcion['entidad'].nunique()}\")\n",
    "print(f\"\\nListado de entidades:\")\n",
    "print(sorted(df_percepcion['entidad'].unique()))"
   ]
  },
  {
   "cell_type": "markdown",
   "id": "dfb1ba27",
   "metadata": {},
   "source": [
    "### 3.2 Incidencia Delictiva"
   ]
  },
  {
   "cell_type": "code",
   "execution_count": null,
   "id": "7ff6476e",
   "metadata": {},
   "outputs": [],
   "source": [
    "# Cargar datos de incidencia delictiva\n",
    "df_delictiva = pd.read_csv(DATA_RAW / 'incidencia_delictiva_estatal_2015_2025.csv')\n",
    "\n",
    "print(f\"Shape: {df_delictiva.shape}\")\n",
    "print(f\"\\nColumnas: {df_delictiva.columns.tolist()}\")\n",
    "print(f\"\\nPrimeras filas:\")\n",
    "df_delictiva.head(10)"
   ]
  },
  {
   "cell_type": "code",
   "execution_count": null,
   "id": "168b7d3b",
   "metadata": {},
   "outputs": [],
   "source": [
    "# Información general\n",
    "df_delictiva.info()"
   ]
  },
  {
   "cell_type": "code",
   "execution_count": null,
   "id": "b727a155",
   "metadata": {},
   "outputs": [],
   "source": [
    "# Valores nulos\n",
    "print(\"Valores nulos por columna:\")\n",
    "print(df_delictiva.isnull().sum())"
   ]
  },
  {
   "cell_type": "code",
   "execution_count": null,
   "id": "13925703",
   "metadata": {},
   "outputs": [],
   "source": [
    "# Explorar estructura (depende de las columnas reales)\n",
    "# Mostrar las primeras columnas para entender la estructura\n",
    "print(\"Columnas del dataset:\")\n",
    "for col in df_delictiva.columns:\n",
    "    print(f\"  - {col}\")"
   ]
  },
  {
   "cell_type": "markdown",
   "id": "1bc2b299",
   "metadata": {},
   "source": [
    "## 4. Visualización Exploratoria\n",
    "\n",
    "### 4.1 Percepción de Inseguridad"
   ]
  },
  {
   "cell_type": "code",
   "execution_count": null,
   "id": "21a65d33",
   "metadata": {},
   "outputs": [],
   "source": [
    "# Evolución temporal a nivel nacional\n",
    "df_nacional = df_percepcion[df_percepcion['entidad'] == 'Nacional']\n",
    "\n",
    "plt.figure(figsize=(12, 6))\n",
    "plt.plot(df_nacional['año'], df_nacional['valor'], marker='o', linewidth=2, markersize=8)\n",
    "plt.title('Evolución de la Percepción de Inseguridad a Nivel Nacional', fontsize=14, fontweight='bold')\n",
    "plt.xlabel('Año', fontsize=12)\n",
    "plt.ylabel('Personas que perciben inseguridad (por cada 100,000)', fontsize=12)\n",
    "plt.grid(True, alpha=0.3)\n",
    "plt.tight_layout()\n",
    "plt.show()"
   ]
  },
  {
   "cell_type": "code",
   "execution_count": null,
   "id": "d1901a3d",
   "metadata": {},
   "outputs": [],
   "source": [
    "# Top 10 estados con mayor percepción (año más reciente)\n",
    "año_reciente = df_percepcion['año'].max()\n",
    "df_reciente = df_percepcion[\n",
    "    (df_percepcion['año'] == año_reciente) & \n",
    "    (df_percepcion['entidad'] != 'Nacional')\n",
    "].sort_values('valor', ascending=False).head(10)\n",
    "\n",
    "plt.figure(figsize=(12, 6))\n",
    "plt.barh(df_reciente['entidad'], df_reciente['valor'])\n",
    "plt.title(f'Top 10 Estados con Mayor Percepción de Inseguridad ({año_reciente})', \n",
    "          fontsize=14, fontweight='bold')\n",
    "plt.xlabel('Personas que perciben inseguridad (por cada 100,000)', fontsize=12)\n",
    "plt.ylabel('Estado', fontsize=12)\n",
    "plt.tight_layout()\n",
    "plt.show()"
   ]
  },
  {
   "cell_type": "code",
   "execution_count": null,
   "id": "d2da52ee",
   "metadata": {},
   "outputs": [],
   "source": [
    "# Evolución de algunos estados seleccionados\n",
    "estados_interes = ['Ciudad de México', 'Estado de México', 'Jalisco', 'Nuevo León', 'Guanajuato']\n",
    "df_estados = df_percepcion[df_percepcion['entidad'].isin(estados_interes)]\n",
    "\n",
    "plt.figure(figsize=(14, 7))\n",
    "for estado in estados_interes:\n",
    "    df_estado = df_estados[df_estados['entidad'] == estado]\n",
    "    plt.plot(df_estado['año'], df_estado['valor'], marker='o', label=estado, linewidth=2)\n",
    "\n",
    "plt.title('Evolución de la Percepción de Inseguridad por Estado', fontsize=14, fontweight='bold')\n",
    "plt.xlabel('Año', fontsize=12)\n",
    "plt.ylabel('Personas que perciben inseguridad (por cada 100,000)', fontsize=12)\n",
    "plt.legend(loc='best', fontsize=10)\n",
    "plt.grid(True, alpha=0.3)\n",
    "plt.tight_layout()\n",
    "plt.show()"
   ]
  },
  {
   "cell_type": "markdown",
   "id": "fd6c0262",
   "metadata": {},
   "source": [
    "### 4.2 Análisis de Calidad de Datos"
   ]
  },
  {
   "cell_type": "code",
   "execution_count": null,
   "id": "01fbcd03",
   "metadata": {},
   "outputs": [],
   "source": [
    "# Verificar completitud de datos por entidad\n",
    "años_esperados = set(range(df_percepcion['año'].min(), df_percepcion['año'].max() + 1))\n",
    "print(f\"Años esperados: {len(años_esperados)} años\")\n",
    "print(f\"Rango: {min(años_esperados)} - {max(años_esperados)}\")\n",
    "\n",
    "print(\"\\nCompletitud de datos por entidad:\")\n",
    "for entidad in sorted(df_percepcion['entidad'].unique()):\n",
    "    df_ent = df_percepcion[df_percepcion['entidad'] == entidad]\n",
    "    años_disponibles = set(df_ent['año'].unique())\n",
    "    años_faltantes = años_esperados - años_disponibles\n",
    "    pct_completo = len(años_disponibles) / len(años_esperados) * 100\n",
    "    \n",
    "    status = \"✓\" if pct_completo == 100 else \"⚠\"\n",
    "    print(f\"{status} {entidad:25s}: {pct_completo:5.1f}% ({len(años_disponibles)}/{len(años_esperados)} años)\")\n",
    "    \n",
    "    if años_faltantes:\n",
    "        print(f\"  Años faltantes: {sorted(años_faltantes)}\")"
   ]
  },
  {
   "cell_type": "code",
   "execution_count": null,
   "id": "1f26c863",
   "metadata": {},
   "outputs": [],
   "source": [
    "# Detectar valores atípicos (outliers)\n",
    "Q1 = df_percepcion['valor'].quantile(0.25)\n",
    "Q3 = df_percepcion['valor'].quantile(0.75)\n",
    "IQR = Q3 - Q1\n",
    "\n",
    "outliers_lower = Q1 - 1.5 * IQR\n",
    "outliers_upper = Q3 + 1.5 * IQR\n",
    "\n",
    "df_outliers = df_percepcion[\n",
    "    (df_percepcion['valor'] < outliers_lower) | \n",
    "    (df_percepcion['valor'] > outliers_upper)\n",
    "]\n",
    "\n",
    "print(f\"Valores atípicos detectados: {len(df_outliers)}\")\n",
    "if len(df_outliers) > 0:\n",
    "    print(\"\\nRegistros con valores atípicos:\")\n",
    "    print(df_outliers[['año', 'entidad', 'valor']].sort_values('valor', ascending=False))"
   ]
  },
  {
   "cell_type": "code",
   "execution_count": null,
   "id": "ec4e6209",
   "metadata": {},
   "outputs": [],
   "source": [
    "# Boxplot por año\n",
    "plt.figure(figsize=(14, 6))\n",
    "df_percepcion[df_percepcion['entidad'] != 'Nacional'].boxplot(\n",
    "    column='valor', by='año', figsize=(14, 6)\n",
    ")\n",
    "plt.suptitle('')\n",
    "plt.title('Distribución de Percepción de Inseguridad por Año', fontsize=14, fontweight='bold')\n",
    "plt.xlabel('Año', fontsize=12)\n",
    "plt.ylabel('Valor del indicador', fontsize=12)\n",
    "plt.tight_layout()\n",
    "plt.show()"
   ]
  },
  {
   "cell_type": "markdown",
   "id": "a7df771a",
   "metadata": {},
   "source": [
    "## 5. Conclusiones de la Exploración\n",
    "\n",
    "### Observaciones clave:\n",
    "1. **Completitud de datos**: [Analizar resultados]\n",
    "2. **Valores nulos**: [Analizar resultados]\n",
    "3. **Tendencias temporales**: [Analizar resultados]\n",
    "4. **Outliers**: [Analizar resultados]\n",
    "\n",
    "### Próximos pasos:\n",
    "1. Crear script de procesamiento para limpiar y transformar datos\n",
    "2. Implementar validaciones de calidad\n",
    "3. Generar datasets tidy para análisis"
   ]
  }
 ],
 "metadata": {
  "kernelspec": {
   "display_name": "base",
   "language": "python",
   "name": "python3"
  },
  "language_info": {
   "name": "python",
   "version": "3.12.3"
  }
 },
 "nbformat": 4,
 "nbformat_minor": 5
}
